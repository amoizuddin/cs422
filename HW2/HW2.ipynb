{
 "cells": [
  {
   "cell_type": "markdown",
   "metadata": {},
   "source": [
    "# CS 422 Homework 2\n",
    "#### Abdullah Moizuddin"
   ]
  },
  {
   "cell_type": "markdown",
   "metadata": {},
   "source": [
    "## Recitation Exercises\n"
   ]
  },
  {
   "cell_type": "markdown",
   "metadata": {},
   "source": [
    "#### Question 2:\n",
    "1.  <br>\n",
    "$Gini = \\sum_{i=1}^{n} (p_i)^2$ <br>\n",
    "<br>\n",
    "A. <br>\n",
    "$ = 1-[(\\frac{10}{20})^2 + (\\frac{10}{20})^2]$<br>\n",
    "$ = 1 - [\\frac{10000}{40000} + \\frac{10000}{40000}]$ <br>\n",
    "$ = 1 - [\\frac{1}{4}+\\frac{1}{4}]$ <br>\n",
    "$ = \\frac{1}{2}$ <br> \n",
    "<br>\n",
    "B.  <br>\n",
    "$ = 1-[(\\frac{0}{20})^2 + (\\frac{20}{20})^2]$ <br>\n",
    "$ = 1 - [\\frac{0}{1} + \\frac{1}{1}]$<br>\n",
    "$ = 0$ <br>\n",
    "<br>\n",
    "C.  <br>\n",
    "Male:<br>\n",
    "$ = 1-[(\\frac{6}{10})^2 + (\\frac{4}{10})^2]$<br>\n",
    "$ = 1 - [\\frac{36}{100} + \\frac{16}{100}]$<br>\n",
    "$ = 1 - \\frac{52}{100}$ <br>\n",
    "$ = .48$ <br>\n",
    "Its the same thing for female cause there is 6 females and 4 males in the other class. Then we can take the Average GINI (weighted). <br>\n",
    "$ Avg. Gini = \\frac{.48+.48}{2} = .48$ <br> \n",
    "<br>D. <br> \n",
    "Family Car: <br>\n",
    "$ = 1-[(\\frac{1}{4})^2 + (\\frac{3}{4})^2]$ <br>\n",
    "$ = 1 - [\\frac{1}{16} + \\frac{9}{16}]$<br>\n",
    "$ = 1 - \\frac{10}{16}$ <br>\n",
    "$ = .375$ <br> \n",
    "<br>Sports Car: <br>\n",
    "$ = 1-[(\\frac{8}{8})^2 + (\\frac{0}{8})^2]$<br>\n",
    "$ = 1 - [\\frac{1}{1} + 0]$<br>\n",
    "$ = 0$ <br> \n",
    "<br>Luxury Car: <br>\n",
    "$ = 1-[(\\frac{1}{8})^2 + (\\frac{7}{8})^2]$<br>\n",
    "$ = 1 - [\\frac{1}{64} + \\frac{49}{64}]$<br>\n",
    "$ = 1 - \\frac{50}{64}$ <br>\n",
    "$ = .21875$ <br> \n",
    "<br>avg. Gini (weighted).<br>\n",
    "$[\\frac{4}{20} * (.375)] + [\\frac{8}{20} * (.21875)] + [0]$ <br>\n",
    "$ = 0.1625 $ <br> \n",
    "<br>E. <br>\n",
    "Small Shirt: <br>\n",
    "$ = 1 - [(\\frac{3}{5})^2 + (\\frac{2}{5})^2]$ <br>\n",
    "$ = 1 - [.52]$ <br>\n",
    "$ = .48 $ <br> \n",
    "<br>Medium Shirt: <br>\n",
    "$ = 1 - [(\\frac{3}{7})^2 + (\\frac{4}{7})^2]$ <br>\n",
    "$ = 1 - [.51]$ <br>\n",
    "$ = .49 $ <Br> \n",
    "<br>Large Shirt: <br>\n",
    "$ = 1 - [(\\frac{2}{4})^2 + (\\frac{2}{4})^2]$ <br>\n",
    "$ = 1 - [.5]$ <br>\n",
    "$ = .5 $ <Br> \n",
    "<br>Extra Large Shirt: <br>\n",
    "$ = 1 - [(\\frac{2}{4})^2 + (\\frac{2}{4})^2]$ <br>\n",
    "$ = 1 - [.5]$ <br>\n",
    "$ = .5 $ <Br> \n",
    "<br>Average GINI (weighted). <br>\n",
    "$[\\frac{5}{20} * (.48)] + [\\frac{7}{20} * (.49)] + [\\frac{4}{20} * (.5)] + [\\frac{4}{20} * (.5)]$ <br>\n",
    "$ = 0.4915 $ <br> \n",
    "<br>F. <bR>\n",
    "The car type has the Lowest GINI. <br> \n",
    "<br>G. <br>\n",
    "Customer ID cant be a good predictor because every new customer gets assigned a new ID and so there wont ever be any shared IDs\n"
   ]
  },
  {
   "cell_type": "markdown",
   "metadata": {},
   "source": [
    "#### Question 3:\n",
    "2. \n",
    "$Entropy = \\sum_{i=1}^{n} (p_i) log_2(p_i)$ <br>\n",
    "A. <br> \n",
    "$ = -(\\frac{4}{9})log_2(\\frac{4}{9}) - (\\frac{5}{9})log_2(\\frac{5}{9})$<br>\n",
    "$ = 0.9911$ <br> \n",
    "B. <br> \n",
    "Entropy for $a_1$: <br>\n",
    "$\\frac{4}{9} [-(\\frac{3}{4}) log_2(\\frac{3}{4}) - (\\frac{1}{4}) log_2(\\frac{1}{4})] + \\frac{5}{9} [-(\\frac{1}{5})log_2(\\frac{1}{5}) - (\\frac{4}{5}) log_2(\\frac{4}{5})] $ <br>\n",
    "$ = .7616$ <br> \n",
    "Entropy for $a_2$: <br>\n",
    "$\\frac{5}{9} [-(\\frac{2}{5}) log_2(\\frac{2}{5}) - (\\frac{3}{5}) log_2(\\frac{3}{5})] + \\frac{4}{9} [-(\\frac{2}{4})log_2(\\frac{2}{4}) - (\\frac{2}{4}) log_2(\\frac{2}{4})] $ <br>\n",
    "$ = .9839$ <br>\n",
    "Gain from $a_1$: <br>\n",
    "$ 0.9911-.7616 = 0.2294$\n",
    "Gain from $a_2$:<br>\n",
    "$ 0.9911-.9893 = 0.0072$<br>\n",
    "C. <br> \n",
    "sorted mapping of counts of $a_3$ <br>\n",
    "a3 = {  \n",
    "        1.0 : 1,\n",
    "        3.0 : 1,\n",
    "        4.0 : 1,\n",
    "        5.0 : 2,\n",
    "        6.0 : 1,\n",
    "        7.0 : 2,\n",
    "        8.0 : 1}"
   ]
  },
  {
   "cell_type": "code",
   "execution_count": 3,
   "metadata": {},
   "outputs": [],
   "source": [
    "import math\n",
    "def entropy(pc1,pc2):\n",
    "    return -1*(pc1)*math.log2(pc1) -(pc2)*math.log2(pc2)\n",
    "def gain(e_original,e_attribute):\n",
    "    return e_original-e_attribute\n",
    "def weighted_avg(weight1,e1,weight2,e2):\n",
    "    return (weight1*e1)+(weight2*e2)\n",
    "def gini(pc1,pc2):\n",
    "    return 1-((pc1**2)+(pc2**2))\n",
    "\n",
    "e0 = entropy(4/9,5/9)"
   ]
  },
  {
   "cell_type": "markdown",
   "metadata": {},
   "source": [
    "Split 0.5:<br> \n",
    "vals <= split: 0 <br>\n",
    "vals > split:\n",
    "4/9 are of '+' 5/9 are of '-'<br>"
   ]
  },
  {
   "cell_type": "code",
   "execution_count": 4,
   "metadata": {},
   "outputs": [
    {
     "name": "stdout",
     "output_type": "stream",
     "text": [
      "entropy of vals <= split: 0\n",
      "entropy of vals > split: 0.9910760598382222\n",
      "gain: 0.0\n"
     ]
    }
   ],
   "source": [
    "e1 = 0\n",
    "e2 = entropy(4/9,5/9)\n",
    "avg_e = weighted_avg(0,e1,9/9,e2)\n",
    "print(\"entropy of vals <= split:\", e1)\n",
    "print(\"entropy of vals > split:\", e2)\n",
    "print(\"gain:\", gain(e0,avg_e))"
   ]
  },
  {
   "cell_type": "markdown",
   "metadata": {},
   "source": [
    "Split 2:<br> \n",
    "vals <= split: 1 <br>\n",
    "1/1 are of '+' 0/1 are of '-'<br>\n",
    "vals > split: 8 <br>\n",
    "3/8 are of '+' 5/8 are of '-'<br>"
   ]
  },
  {
   "cell_type": "code",
   "execution_count": 5,
   "metadata": {},
   "outputs": [
    {
     "name": "stdout",
     "output_type": "stream",
     "text": [
      "entropy of vals <= split: 0\n",
      "entropy of vals > split: 0.9544340029249649\n",
      "weighted avg: 0.8483857803777466\n",
      "gain: 0.14269027946047563\n"
     ]
    }
   ],
   "source": [
    "e1 = 0\n",
    "e2 = entropy(3/8,5/8)\n",
    "avg_e = weighted_avg(1/9,e1,8/9,e2)\n",
    "print(\"entropy of vals <= split:\", e1)\n",
    "print(\"entropy of vals > split:\", e2)\n",
    "print(\"weighted avg:\", avg_e)\n",
    "print(\"gain:\", gain(e0,avg_e))"
   ]
  },
  {
   "cell_type": "markdown",
   "metadata": {},
   "source": [
    "Split 3.5:<br> \n",
    "vals <= split: 2 <br>\n",
    "1/2 are of '+' 1/2 are of '-'<br>\n",
    "vals > split: 7 <br>\n",
    "3/7 are of '+' 4/7 are of '-'<br>"
   ]
  },
  {
   "cell_type": "code",
   "execution_count": 6,
   "metadata": {},
   "outputs": [
    {
     "name": "stdout",
     "output_type": "stream",
     "text": [
      "entropy of vals <= split: 1.0\n",
      "entropy of vals > split: 0.9852281360342515\n",
      "weighted avg: 0.9885107724710845\n",
      "gain: 0.002565287367137681\n"
     ]
    }
   ],
   "source": [
    "e1 = entropy(1/2,1/2)\n",
    "e2 = entropy(3/7,4/7)\n",
    "avg_e = weighted_avg(2/9,e1,7/9,e2)\n",
    "print(\"entropy of vals <= split:\", e1)\n",
    "print(\"entropy of vals > split:\", e2)\n",
    "print(\"weighted avg:\", avg_e)\n",
    "print(\"gain:\", gain(e0,avg_e))"
   ]
  },
  {
   "cell_type": "markdown",
   "metadata": {},
   "source": [
    "Split 4.5:<br> \n",
    "vals <= split: 3 <br>\n",
    "3/2 are of '+' 1/3 are of '-'<br>\n",
    "vals > split: 6 <br>\n",
    "2/6 are of '+' 4/6 are of '-'<br>"
   ]
  },
  {
   "cell_type": "code",
   "execution_count": 7,
   "metadata": {},
   "outputs": [
    {
     "name": "stdout",
     "output_type": "stream",
     "text": [
      "entropy of vals <= split: 0.9182958340544896\n",
      "entropy of vals > split: 0.9182958340544896\n",
      "weighted avg: 0.9182958340544896\n",
      "gain: 0.07278022578373267\n"
     ]
    }
   ],
   "source": [
    "e1 = entropy(2/3,1/3)\n",
    "e2 = entropy(2/6,4/6)\n",
    "avg_e = weighted_avg(3/9,e1,6/9,e2)\n",
    "print(\"entropy of vals <= split:\", e1)\n",
    "print(\"entropy of vals > split:\", e2)\n",
    "print(\"weighted avg:\", avg_e)\n",
    "print(\"gain:\", gain(e0,avg_e))"
   ]
  },
  {
   "cell_type": "markdown",
   "metadata": {},
   "source": [
    "Split 5.5:<br> \n",
    "vals <= split: 4 <br>\n",
    "2/4 are of '+' 2/4 are of '-'<br>\n",
    "vals > split: 5 <br>\n",
    "2/5 are of '+' 2/5 are of '-'<br>"
   ]
  },
  {
   "cell_type": "code",
   "execution_count": 8,
   "metadata": {},
   "outputs": [
    {
     "name": "stdout",
     "output_type": "stream",
     "text": [
      "entropy of vals <= split: 1.0\n",
      "entropy of vals > split: 0.9709505944546686\n",
      "weighted avg: 0.9838614413637048\n",
      "gain: 0.007214618474517431\n"
     ]
    }
   ],
   "source": [
    "e1 = entropy(2/4,2/4)\n",
    "e2 = entropy(2/5,3/5)\n",
    "avg_e = weighted_avg(4/9,e1,5/9,e2)\n",
    "print(\"entropy of vals <= split:\", e1)\n",
    "print(\"entropy of vals > split:\", e2)\n",
    "print(\"weighted avg:\", avg_e)\n",
    "print(\"gain:\", gain(e0,avg_e))"
   ]
  },
  {
   "cell_type": "markdown",
   "metadata": {},
   "source": [
    "Split 6.5:<br> \n",
    "vals <= split: 6 <br>\n",
    "3/6 are of '+' 3/6 are of '-'<br>\n",
    "1/3 are of '+' 2/3 are of '-'<br>"
   ]
  },
  {
   "cell_type": "code",
   "execution_count": 9,
   "metadata": {},
   "outputs": [
    {
     "name": "stdout",
     "output_type": "stream",
     "text": [
      "entropy of vals <= split: 1.0\n",
      "entropy of vals > split: 0.9182958340544896\n",
      "weighted avg: 0.9727652780181631\n",
      "gain: 0.018310781820059074\n"
     ]
    }
   ],
   "source": [
    "e1 = entropy(3/6,3/6)\n",
    "e2 = entropy(1/3,2/3)\n",
    "avg_e = weighted_avg(6/9,e1,3/9,e2)\n",
    "print(\"entropy of vals <= split:\", e1)\n",
    "print(\"entropy of vals > split:\", e2)\n",
    "print(\"weighted avg:\", avg_e)\n",
    "print(\"gain:\", gain(e0,avg_e))"
   ]
  },
  {
   "cell_type": "markdown",
   "metadata": {},
   "source": [
    "Split 7.5:<br> \n",
    "vals <= split: 8 <br>\n",
    "4/8 are of '+' 4/8 are of '-'<br>\n",
    "vals > split: 1 <br>\n",
    "0/1 are of '+' 1/1 are of '-'<br>"
   ]
  },
  {
   "cell_type": "code",
   "execution_count": 10,
   "metadata": {},
   "outputs": [
    {
     "name": "stdout",
     "output_type": "stream",
     "text": [
      "entropy of vals <= split: 1.0\n",
      "entropy of vals > split: 0\n",
      "weighted avg: 0.8888888888888888\n",
      "gain: 0.10218717094933338\n"
     ]
    }
   ],
   "source": [
    "e1 = entropy(4/8,4/8)\n",
    "e2 = 0\n",
    "avg_e = weighted_avg(8/9,e1,1/9,e2)\n",
    "print(\"entropy of vals <= split:\", e1)\n",
    "print(\"entropy of vals > split:\", e2)\n",
    "print(\"weighted avg:\", avg_e)\n",
    "print(\"gain:\", gain(e0,avg_e))"
   ]
  },
  {
   "cell_type": "markdown",
   "metadata": {},
   "source": [
    "Split 8.5:<br> \n",
    "vals <= split: 9 <br>\n",
    "4/9 are of '+' 5/9 are of '-'<br>\n",
    "vals > split: 0 <br>"
   ]
  },
  {
   "cell_type": "code",
   "execution_count": 11,
   "metadata": {},
   "outputs": [
    {
     "name": "stdout",
     "output_type": "stream",
     "text": [
      "entropy of vals <= split: 0.9910760598382222\n",
      "entropy of vals > split: 0\n",
      "gain: 0.0\n"
     ]
    }
   ],
   "source": [
    "e1 = entropy(4/9,5/9)\n",
    "e2 = 0\n",
    "avg_e = weighted_avg(9/9,e1,0,e2)\n",
    "print(\"entropy of vals <= split:\", e1)\n",
    "print(\"entropy of vals > split:\", e2)\n",
    "print(\"gain:\", gain(e0,avg_e))"
   ]
  },
  {
   "cell_type": "markdown",
   "metadata": {},
   "source": [
    "D.<br> \n",
    "The best split is $a_1$ <br>\n",
    "E. <br>\n",
    "Classification error $= 1 - max(p_i)$<br>\n",
    "$C(a_1) = 1 - \\frac{7}{9}$<br>\n",
    "$ = \\frac{2}{9}$ <br>\n",
    "$C(a_2) = 1 - \\frac{5}{9}$<br>\n",
    "$ = \\frac{4}{9}$<br>\n",
    "$a_1$ is better because it has a lower classification error.<br>\n",
    "F. \n"
   ]
  },
  {
   "cell_type": "code",
   "execution_count": 12,
   "metadata": {},
   "outputs": [
    {
     "name": "stdout",
     "output_type": "stream",
     "text": [
      "gini of a1: 0.34444444444444433\n"
     ]
    }
   ],
   "source": [
    "g1 = gini(3/4,1/4)\n",
    "g2 = gini(1/5,4/5)\n",
    "g_avg = weighted_avg(4/9,g1,5/9,g2)\n",
    "print(\"gini of a1:\", g_avg)"
   ]
  },
  {
   "cell_type": "code",
   "execution_count": 13,
   "metadata": {},
   "outputs": [
    {
     "name": "stdout",
     "output_type": "stream",
     "text": [
      "gini of a2: 0.4888888888888889\n"
     ]
    }
   ],
   "source": [
    "g1 = gini(2/5,3/5)\n",
    "g2 = gini(2/4,2/4)\n",
    "g_avg = weighted_avg(5/9,g1,4/9,g2)\n",
    "print(\"gini of a2:\", g_avg)"
   ]
  },
  {
   "cell_type": "markdown",
   "metadata": {},
   "source": [
    "$a_1$ has the better gini. It is the better split."
   ]
  },
  {
   "cell_type": "markdown",
   "metadata": {},
   "source": [
    "#### Question 5\n",
    "2. <br>\n",
    "when A = T --> '+' : 4 and '-' : 3 <br>\n",
    "when A = F --> '+' : 0 and '-' : 3 <br>\n",
    "when B = T --> '+' : 3 and '-' : 1 <br>\n",
    "when A = F --> '+' : 1 and '-' : 5 <br>"
   ]
  },
  {
   "cell_type": "code",
   "execution_count": 22,
   "metadata": {},
   "outputs": [
    {
     "name": "stdout",
     "output_type": "stream",
     "text": [
      "gain with split on A:  0.2812908992306925\n",
      "gain with split on B:  0.256425891682003\n"
     ]
    }
   ],
   "source": [
    "E_origin = entropy(4/10,6/10)\n",
    "E_AT = entropy(4/7,3/7)\n",
    "E_AF = 0\n",
    "w_avg = weighted_avg(7/10,E_AT,3/10,E_AF)\n",
    "print(\"gain with split on A: \", gain(E_origin,w_avg))\n",
    "\n",
    "E_BT = entropy(3/4,1/4)\n",
    "E_BF = entropy(1/6,5/6)\n",
    "w_avg = weighted_avg(4/10,E_BT,6/10,E_BF)\n",
    "print(\"gain with split on B: \", gain(E_origin,w_avg))"
   ]
  },
  {
   "cell_type": "markdown",
   "metadata": {},
   "source": [
    "A has more gain, Thus A is the better split. <br>\n",
    "<br>\n",
    "B."
   ]
  },
  {
   "cell_type": "code",
   "execution_count": 23,
   "metadata": {},
   "outputs": [
    {
     "name": "stdout",
     "output_type": "stream",
     "text": [
      "gain with split on A:  0.13714285714285707\n",
      "gain with split on B:  0.16333333333333333\n"
     ]
    }
   ],
   "source": [
    "G_origin = gini(4/10,6/10)\n",
    "G_AT = gini(4/7,3/7)\n",
    "G_AF = 0\n",
    "w_avg = weighted_avg(7/10,G_AT,3/10,G_AF)\n",
    "print(\"gain with split on A: \", gain(G_origin,w_avg))\n",
    "\n",
    "G_BT = gini(3/4,1/4)\n",
    "G_BF = gini(1/6,5/6)\n",
    "w_avg = weighted_avg(4/10,G_BT,6/10,G_BF)\n",
    "print(\"gain with split on B: \", gain(G_origin,w_avg))"
   ]
  },
  {
   "cell_type": "markdown",
   "metadata": {},
   "source": [
    "B has more gain. Thus, B is the better split.\n",
    "<br><br>\n",
    "C.<br>\n",
    "yes because the gain as a result from GINI isnt the same as the gain as a result from entropy.\n",
    "#### Question 6\n",
    "Class 0: $P = 7$, $C_1 = 3$, $C_2 = 4$ <br>\n",
    "Class 1: $P = 3$, $C_1 = 0$, $C_2 = 3$<br>"
   ]
  },
  {
   "cell_type": "code",
   "execution_count": null,
   "metadata": {},
   "outputs": [],
   "source": [
    "G_P = gini(3/10,7/10)\n",
    "G_C1 = gini(3/7,4/7)\n",
    "G_C2 = 0\n",
    "W_g"
   ]
  }
 ],
 "metadata": {
  "kernelspec": {
   "display_name": "Python 3",
   "language": "python",
   "name": "python3"
  },
  "language_info": {
   "codemirror_mode": {
    "name": "ipython",
    "version": 3
   },
   "file_extension": ".py",
   "mimetype": "text/x-python",
   "name": "python",
   "nbconvert_exporter": "python",
   "pygments_lexer": "ipython3",
   "version": "3.7.4"
  }
 },
 "nbformat": 4,
 "nbformat_minor": 2
}
