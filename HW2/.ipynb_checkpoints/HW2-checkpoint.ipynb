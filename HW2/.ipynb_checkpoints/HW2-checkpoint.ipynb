{
 "cells": [
  {
   "cell_type": "markdown",
   "metadata": {},
   "source": [
    "# CS 422 Homework 2\n",
    "#### Abdullah Moizuddin"
   ]
  },
  {
   "cell_type": "markdown",
   "metadata": {},
   "source": [
    "## Recitation Exercises\n"
   ]
  },
  {
   "cell_type": "markdown",
   "metadata": {},
   "source": [
    "#### Question 2:\n",
    "1.  <br>\n",
    "$Gini = \\sum_{i=1}^{n} (p_i)^2$ <br>\n",
    "<br>\n",
    "A. <br>\n",
    "$ = 1-[(\\frac{10}{20})^2 + (\\frac{10}{20})^2]$<br>\n",
    "$ = 1 - [\\frac{10000}{40000} + \\frac{10000}{40000}]$ <br>\n",
    "$ = 1 - [\\frac{1}{4}+\\frac{1}{4}]$ <br>\n",
    "$ = \\frac{1}{2}$ <br> \n",
    "<br>\n",
    "B.  <br>\n",
    "$ = 1-[(\\frac{0}{20})^2 + (\\frac{20}{20})^2]$ <br>\n",
    "$ = 1 - [\\frac{0}{1} + \\frac{1}{1}]$<br>\n",
    "$ = 0$ <br>\n",
    "<br>\n",
    "C.  <br>\n",
    "Male:<br>\n",
    "$ = 1-[(\\frac{6}{10})^2 + (\\frac{4}{10})^2]$<br>\n",
    "$ = 1 - [\\frac{36}{100} + \\frac{16}{100}]$<br>\n",
    "$ = 1 - \\frac{52}{100}$ <br>\n",
    "$ = .48$ <br>\n",
    "Its the same thing for female cause there is 6 females and 4 males in the other class. Then we can take the Average GINI (weighted). <br>\n",
    "$ Avg. Gini = \\frac{.48+.48}{2} = .48$ <br> \n",
    "<br>D. <br> \n",
    "Family Car: <br>\n",
    "$ = 1-[(\\frac{1}{4})^2 + (\\frac{3}{4})^2]$ <br>\n",
    "$ = 1 - [\\frac{1}{16} + \\frac{9}{16}]$<br>\n",
    "$ = 1 - \\frac{10}{16}$ <br>\n",
    "$ = .375$ <br> \n",
    "<br>Sports Car: <br>\n",
    "$ = 1-[(\\frac{8}{8})^2 + (\\frac{0}{8})^2]$<br>\n",
    "$ = 1 - [\\frac{1}{1} + 0]$<br>\n",
    "$ = 0$ <br> \n",
    "<br>Luxury Car: <br>\n",
    "$ = 1-[(\\frac{1}{8})^2 + (\\frac{7}{8})^2]$<br>\n",
    "$ = 1 - [\\frac{1}{64} + \\frac{49}{64}]$<br>\n",
    "$ = 1 - \\frac{50}{64}$ <br>\n",
    "$ = .21875$ <br> \n",
    "<br>avg. Gini (weighted).<br>\n",
    "$[\\frac{4}{20} * (.375)] + [\\frac{8}{20} * (.21875)] + [0]$ <br>\n",
    "$ = 0.1625 $ <br> \n",
    "<br>E. <br>\n",
    "Small Shirt: <br>\n",
    "$ = 1 - [(\\frac{3}{5})^2 + (\\frac{2}{5})^2]$ <br>\n",
    "$ = 1 - [.52]$ <br>\n",
    "$ = .48 $ <br> \n",
    "<br>Medium Shirt: <br>\n",
    "$ = 1 - [(\\frac{3}{7})^2 + (\\frac{4}{7})^2]$ <br>\n",
    "$ = 1 - [.51]$ <br>\n",
    "$ = .49 $ <Br> \n",
    "<br>Large Shirt: <br>\n",
    "$ = 1 - [(\\frac{2}{4})^2 + (\\frac{2}{4})^2]$ <br>\n",
    "$ = 1 - [.5]$ <br>\n",
    "$ = .5 $ <Br> \n",
    "<br>Extra Large Shirt: <br>\n",
    "$ = 1 - [(\\frac{2}{4})^2 + (\\frac{2}{4})^2]$ <br>\n",
    "$ = 1 - [.5]$ <br>\n",
    "$ = .5 $ <Br> \n",
    "<br>Average GINI (weighted). <br>\n",
    "$[\\frac{5}{20} * (.48)] + [\\frac{7}{20} * (.49)] + [\\frac{4}{20} * (.5)] + [\\frac{4}{20} * (.5)]$ <br>\n",
    "$ = 0.4915 $ <br> \n",
    "<br>F. <bR>\n",
    "The car type has the Lowest GINI. <br> \n",
    "<br>G. <br>\n",
    "Customer ID cant be a good predictor because every new customer gets assigned a new ID and so there wont ever be any shared IDs\n"
   ]
  },
  {
   "cell_type": "markdown",
   "metadata": {},
   "source": [
    "#### Question 3:\n",
    "2. \n",
    "$Entropy = \\sum_{i=1}^{n} (p_i) log_2(p_i)$ <br>\n",
    "A. <br> \n",
    "$ = -(\\frac{4}{9})log_2(\\frac{4}{9}) - (\\frac{5}{9})log_2(\\frac{5}{9})$<br>\n",
    "$ = 0.9911$ <br> \n",
    "B. <br> \n",
    "Entropy for $a_1$: <br>\n",
    "$\\frac{4}{9} [-(\\frac{3}{4}) log_2(\\frac{3}{4}) - (\\frac{1}{4}) log_2(\\frac{1}{4})] + \\frac{5}{9} [-(\\frac{1}{5})log_2(\\frac{1}{5}) - (\\frac{4}{5}) log_2(\\frac{4}{5})] $ <br>\n",
    "$ = .7616$ <br> \n",
    "Entropy for $a_2$: <br>\n",
    "$\\frac{5}{9} [-(\\frac{2}{5}) log_2(\\frac{2}{5}) - (\\frac{3}{5}) log_2(\\frac{3}{5})] + \\frac{4}{9} [-(\\frac{2}{4})log_2(\\frac{2}{4}) - (\\frac{2}{4}) log_2(\\frac{2}{4})] $ <br>\n",
    "$ = .9839$ <br>\n",
    "Gain from $a_1$: <br>\n",
    "$ 0.9911-.7616 = 0.2294$\n",
    "Gain from $a_2$:<br>\n",
    "$ 0.9911-.9893 = 0.0072$<br>\n",
    "C. <br> \n",
    "sorted mapping of counts of $a_3$ <br>\n",
    "a3 = {  \n",
    "        1.0 : 1,\n",
    "        3.0 : 1,\n",
    "        4.0 : 1,\n",
    "        5.0 : 2,\n",
    "        6.0 : 1,\n",
    "        7.0 : 2,\n",
    "        8.0 : 1}"
   ]
  },
  {
   "cell_type": "code",
   "execution_count": 122,
   "metadata": {},
   "outputs": [],
   "source": [
    "import math\n",
    "def entropy(pc1,pc2):\n",
    "    return -1*(pc1)*math.log2(pc1) -(pc2)*math.log2(pc2)\n",
    "def gain(e_original,e_attribute):\n",
    "    return e_original-e_attribute\n",
    "def missclass_error(a1,a2):\n",
    "    return 1-max(a1,a2)\n",
    "\n",
    "def gini(pc1,pc2):\n",
    "    return 1-((pc1**2)+(pc2**2))\n",
    "\n",
    "def weighted(weights,impurities):\n",
    "    return sum([tup[0]*tup[1] for tup in zip(weights,impurities)])\n",
    "\n",
    "\n",
    "\n"
   ]
  },
  {
   "cell_type": "markdown",
   "metadata": {},
   "source": [
    "Split 0.5:<br> \n",
    "vals <= split: 0 <br>\n",
    "vals > split:\n",
    "4/9 are of '+' 5/9 are of '-'<br>"
   ]
  },
  {
   "cell_type": "code",
   "execution_count": 123,
   "metadata": {},
   "outputs": [
    {
     "name": "stdout",
     "output_type": "stream",
     "text": [
      "entropy of vals <= split: 0\n",
      "entropy of vals > split: 0.9910760598382222\n",
      "gain: 0.0\n"
     ]
    }
   ],
   "source": [
    "e1 = 0\n",
    "e2 = entropy(4/9,5/9)\n",
    "avg_e = weighted([0,9/9],[e1,e2])\n",
    "print(\"entropy of vals <= split:\", e1)\n",
    "print(\"entropy of vals > split:\", e2)\n",
    "print(\"gain:\", gain(e0,avg_e))"
   ]
  },
  {
   "cell_type": "markdown",
   "metadata": {},
   "source": [
    "Split 2:<br> \n",
    "vals <= split: 1 <br>\n",
    "1/1 are of '+' 0/1 are of '-'<br>\n",
    "vals > split: 8 <br>\n",
    "3/8 are of '+' 5/8 are of '-'<br>"
   ]
  },
  {
   "cell_type": "code",
   "execution_count": 124,
   "metadata": {},
   "outputs": [
    {
     "name": "stdout",
     "output_type": "stream",
     "text": [
      "entropy of vals <= split: 0\n",
      "entropy of vals > split: 0.9544340029249649\n",
      "weighted avg: 0.8483857803777466\n",
      "gain: 0.14269027946047563\n"
     ]
    }
   ],
   "source": [
    "e1 = 0\n",
    "e2 = entropy(3/8,5/8)\n",
    "avg_e = weighted([1/9,8/9],[e1,e2])\n",
    "print(\"entropy of vals <= split:\", e1)\n",
    "print(\"entropy of vals > split:\", e2)\n",
    "print(\"weighted avg:\", avg_e)\n",
    "print(\"gain:\", gain(e0,avg_e))"
   ]
  },
  {
   "cell_type": "markdown",
   "metadata": {},
   "source": [
    "Split 3.5:<br> \n",
    "vals <= split: 2 <br>\n",
    "1/2 are of '+' 1/2 are of '-'<br>\n",
    "vals > split: 7 <br>\n",
    "3/7 are of '+' 4/7 are of '-'<br>"
   ]
  },
  {
   "cell_type": "code",
   "execution_count": 125,
   "metadata": {},
   "outputs": [
    {
     "name": "stdout",
     "output_type": "stream",
     "text": [
      "entropy of vals <= split: 1.0\n",
      "entropy of vals > split: 0.9852281360342515\n",
      "weighted avg: 0.9885107724710845\n",
      "gain: 0.002565287367137681\n"
     ]
    }
   ],
   "source": [
    "e1 = entropy(1/2,1/2)\n",
    "e2 = entropy(3/7,4/7)\n",
    "avg_e = weighted([2/9,7/9],[e1,e2])\n",
    "print(\"entropy of vals <= split:\", e1)\n",
    "print(\"entropy of vals > split:\", e2)\n",
    "print(\"weighted avg:\", avg_e)\n",
    "print(\"gain:\", gain(e0,avg_e))"
   ]
  },
  {
   "cell_type": "markdown",
   "metadata": {},
   "source": [
    "Split 4.5:<br> \n",
    "vals <= split: 3 <br>\n",
    "3/2 are of '+' 1/3 are of '-'<br>\n",
    "vals > split: 6 <br>\n",
    "2/6 are of '+' 4/6 are of '-'<br>"
   ]
  },
  {
   "cell_type": "code",
   "execution_count": 126,
   "metadata": {},
   "outputs": [
    {
     "name": "stdout",
     "output_type": "stream",
     "text": [
      "entropy of vals <= split: 0.9182958340544896\n",
      "entropy of vals > split: 0.9182958340544896\n",
      "weighted avg: 0.9182958340544896\n",
      "gain: 0.07278022578373267\n"
     ]
    }
   ],
   "source": [
    "e1 = entropy(2/3,1/3)\n",
    "e2 = entropy(2/6,4/6)\n",
    "avg_e = weighted([3/9,6/9],[e1,e2])\n",
    "print(\"entropy of vals <= split:\", e1)\n",
    "print(\"entropy of vals > split:\", e2)\n",
    "print(\"weighted avg:\", avg_e)\n",
    "print(\"gain:\", gain(e0,avg_e))"
   ]
  },
  {
   "cell_type": "markdown",
   "metadata": {},
   "source": [
    "Split 5.5:<br> \n",
    "vals <= split: 4 <br>\n",
    "2/4 are of '+' 2/4 are of '-'<br>\n",
    "vals > split: 5 <br>\n",
    "2/5 are of '+' 2/5 are of '-'<br>"
   ]
  },
  {
   "cell_type": "code",
   "execution_count": 127,
   "metadata": {},
   "outputs": [
    {
     "name": "stdout",
     "output_type": "stream",
     "text": [
      "entropy of vals <= split: 1.0\n",
      "entropy of vals > split: 0.9709505944546686\n",
      "weighted avg: 0.9838614413637048\n",
      "gain: 0.007214618474517431\n"
     ]
    }
   ],
   "source": [
    "e1 = entropy(2/4,2/4)\n",
    "e2 = entropy(2/5,3/5)\n",
    "avg_e = weighted([4/9,5/9],[e1,e2])\n",
    "print(\"entropy of vals <= split:\", e1)\n",
    "print(\"entropy of vals > split:\", e2)\n",
    "print(\"weighted avg:\", avg_e)\n",
    "print(\"gain:\", gain(e0,avg_e))"
   ]
  },
  {
   "cell_type": "markdown",
   "metadata": {},
   "source": [
    "Split 6.5:<br> \n",
    "vals <= split: 6 <br>\n",
    "3/6 are of '+' 3/6 are of '-'<br>\n",
    "1/3 are of '+' 2/3 are of '-'<br>"
   ]
  },
  {
   "cell_type": "code",
   "execution_count": 128,
   "metadata": {},
   "outputs": [
    {
     "name": "stdout",
     "output_type": "stream",
     "text": [
      "entropy of vals <= split: 1.0\n",
      "entropy of vals > split: 0.9182958340544896\n",
      "weighted avg: 0.9727652780181631\n",
      "gain: 0.018310781820059074\n"
     ]
    }
   ],
   "source": [
    "e1 = entropy(3/6,3/6)\n",
    "e2 = entropy(1/3,2/3)\n",
    "avg_e = weighted([6/9,3/9],[e1,e2])\n",
    "print(\"entropy of vals <= split:\", e1)\n",
    "print(\"entropy of vals > split:\", e2)\n",
    "print(\"weighted avg:\", avg_e)\n",
    "print(\"gain:\", gain(e0,avg_e))"
   ]
  },
  {
   "cell_type": "markdown",
   "metadata": {},
   "source": [
    "Split 7.5:<br> \n",
    "vals <= split: 8 <br>\n",
    "4/8 are of '+' 4/8 are of '-'<br>\n",
    "vals > split: 1 <br>\n",
    "0/1 are of '+' 1/1 are of '-'<br>"
   ]
  },
  {
   "cell_type": "code",
   "execution_count": 129,
   "metadata": {},
   "outputs": [
    {
     "name": "stdout",
     "output_type": "stream",
     "text": [
      "entropy of vals <= split: 1.0\n",
      "entropy of vals > split: 0\n",
      "weighted avg: 0.8888888888888888\n",
      "gain: 0.10218717094933338\n"
     ]
    }
   ],
   "source": [
    "e1 = entropy(4/8,4/8)\n",
    "e2 = 0\n",
    "avg_e = weighted([8/9,1/9],[e1,e2])\n",
    "print(\"entropy of vals <= split:\", e1)\n",
    "print(\"entropy of vals > split:\", e2)\n",
    "print(\"weighted avg:\", avg_e)\n",
    "print(\"gain:\", gain(e0,avg_e))"
   ]
  },
  {
   "cell_type": "markdown",
   "metadata": {},
   "source": [
    "Split 8.5:<br> \n",
    "vals <= split: 9 <br>\n",
    "4/9 are of '+' 5/9 are of '-'<br>\n",
    "vals > split: 0 <br>"
   ]
  },
  {
   "cell_type": "code",
   "execution_count": 130,
   "metadata": {},
   "outputs": [
    {
     "name": "stdout",
     "output_type": "stream",
     "text": [
      "entropy of vals <= split: 0.9910760598382222\n",
      "entropy of vals > split: 0\n",
      "gain: 0.0\n"
     ]
    }
   ],
   "source": [
    "e1 = entropy(4/9,5/9)\n",
    "e2 = 0\n",
    "avg_e = weighted([9/9,0],[e1,e2])\n",
    "print(\"entropy of vals <= split:\", e1)\n",
    "print(\"entropy of vals > split:\", e2)\n",
    "print(\"gain:\", gain(e0,avg_e))"
   ]
  },
  {
   "cell_type": "markdown",
   "metadata": {},
   "source": [
    "D.<br> \n",
    "The best split is $a_1$ <br>\n",
    "E. <br>\n",
    "Classification error $= 1 - max(p_i)$<br>\n",
    "$C(a_1) = 1 - \\frac{7}{9}$<br>\n",
    "$ = \\frac{2}{9}$ <br>\n",
    "$C(a_2) = 1 - \\frac{5}{9}$<br>\n",
    "$ = \\frac{4}{9}$<br>\n",
    "$a_1$ is better because it has a lower classification error.<br>\n",
    "F. \n"
   ]
  },
  {
   "cell_type": "code",
   "execution_count": 131,
   "metadata": {},
   "outputs": [
    {
     "name": "stdout",
     "output_type": "stream",
     "text": [
      "gini of a1: 0.34444444444444433\n"
     ]
    }
   ],
   "source": [
    "g1 = gini(3/4,1/4)\n",
    "g2 = gini(1/5,4/5)\n",
    "g_avg = weighted([4/9,5/9],[g1,g2])\n",
    "print(\"gini of a1:\", g_avg)"
   ]
  },
  {
   "cell_type": "code",
   "execution_count": 132,
   "metadata": {},
   "outputs": [
    {
     "name": "stdout",
     "output_type": "stream",
     "text": [
      "gini of a2: 0.4888888888888889\n"
     ]
    }
   ],
   "source": [
    "g1 = gini(2/5,3/5)\n",
    "g2 = gini(2/4,2/4)\n",
    "g_avg = weighted([5/9,4/9],[g1,g2])\n",
    "print(\"gini of a2:\", g_avg)"
   ]
  },
  {
   "cell_type": "markdown",
   "metadata": {},
   "source": [
    "$a_1$ has the better gini. It is the better split."
   ]
  },
  {
   "cell_type": "markdown",
   "metadata": {},
   "source": [
    "#### Question 5\n",
    "2. <br>\n",
    "when A = T --> '+' : 4 and '-' : 3 <br>\n",
    "when A = F --> '+' : 0 and '-' : 3 <br>\n",
    "when B = T --> '+' : 3 and '-' : 1 <br>\n",
    "when A = F --> '+' : 1 and '-' : 5 <br>"
   ]
  },
  {
   "cell_type": "code",
   "execution_count": 133,
   "metadata": {},
   "outputs": [
    {
     "name": "stdout",
     "output_type": "stream",
     "text": [
      "gain with split on A:  0.2812908992306925\n",
      "gain with split on B:  0.256425891682003\n"
     ]
    }
   ],
   "source": [
    "E_origin = entropy(4/10,6/10)\n",
    "E_AT = entropy(4/7,3/7)\n",
    "E_AF = 0\n",
    "w_avg = weighted([7/10,3/10],[E_AT,E_AF])\n",
    "print(\"gain with split on A: \", gain(E_origin,w_avg))\n",
    "\n",
    "E_BT = entropy(3/4,1/4)\n",
    "E_BF = entropy(1/6,5/6)\n",
    "w_avg = weighted([4/10,6/10],[E_BT,E_BF])\n",
    "print(\"gain with split on B: \", gain(E_origin,w_avg))"
   ]
  },
  {
   "cell_type": "markdown",
   "metadata": {},
   "source": [
    "A has more gain, Thus A is the better split. <br>\n",
    "<br>\n",
    "B."
   ]
  },
  {
   "cell_type": "code",
   "execution_count": 134,
   "metadata": {},
   "outputs": [
    {
     "name": "stdout",
     "output_type": "stream",
     "text": [
      "gain with split on A:  0.13714285714285707\n",
      "gain with split on B:  0.16333333333333333\n"
     ]
    }
   ],
   "source": [
    "G_origin = gini(4/10,6/10)\n",
    "G_AT = gini(4/7,3/7)\n",
    "G_AF = 0\n",
    "w_avg = weighted([7/10,3/10],[G_AT,G_AF])\n",
    "print(\"gain with split on A: \", gain(G_origin,w_avg))\n",
    "\n",
    "G_BT = gini(3/4,1/4)\n",
    "G_BF = gini(1/6,5/6)\n",
    "w_avg = weighted([4/10,6/10],[G_BT,G_BF])\n",
    "print(\"gain with split on B: \", gain(G_origin,w_avg))"
   ]
  },
  {
   "cell_type": "markdown",
   "metadata": {},
   "source": [
    "B has more gain. Thus, B is the better split.\n",
    "<br><br>\n",
    "C.<br>\n",
    "yes because the gain as a result from GINI isnt the same as the gain as a result from entropy.\n",
    "#### Question 6\n",
    "Class 0: $P = 7$, $C_1 = 3$, $C_2 = 4$ <br>\n",
    "Class 1: $P = 3$, $C_1 = 0$, $C_2 = 3$<br>\n",
    "A) <br>"
   ]
  },
  {
   "cell_type": "code",
   "execution_count": 135,
   "metadata": {},
   "outputs": [
    {
     "name": "stdout",
     "output_type": "stream",
     "text": [
      "\n",
      "Gini of parent: 0.42000000000000004\n",
      "misclassification error Parent: 0.3\n"
     ]
    }
   ],
   "source": [
    "G_P = gini(3/10,7/10)\n",
    "G_c1 = gini(3/7,4/7)\n",
    "G_c2 = 0\n",
    "W_g=weighted([7/10,3/10],[G_c1,G_c2])\n",
    "print(\"\")\n",
    "print(\"Gini of parent:\", G_P)\n",
    "print(\"misclassification error Parent:\", 3/10)"
   ]
  },
  {
   "cell_type": "markdown",
   "metadata": {},
   "source": [
    "B)"
   ]
  },
  {
   "cell_type": "code",
   "execution_count": 136,
   "metadata": {},
   "outputs": [
    {
     "name": "stdout",
     "output_type": "stream",
     "text": [
      "weighted gini: 0.3428571428571429\n",
      "gain:  0.07714285714285712\n"
     ]
    }
   ],
   "source": [
    "print(\"weighted gini:\", W_g)\n",
    "print(\"gain: \", gain(G_P,W_g))"
   ]
  },
  {
   "cell_type": "markdown",
   "metadata": {},
   "source": [
    "There was some gain with this attribute test condition. If there were other attribute test conditions which resulted in a better gain, I would prefer to use those over this. However if this attribute test codition gives the most gain, i would prefer to use this.<br>\n",
    "C)"
   ]
  },
  {
   "cell_type": "code",
   "execution_count": 137,
   "metadata": {},
   "outputs": [
    {
     "name": "stdout",
     "output_type": "stream",
     "text": [
      "weighted missclassification: 0.30000000000000004\n"
     ]
    }
   ],
   "source": [
    "print(\"weighted missclassification:\", missclass_error(7/10,3/10))"
   ]
  },
  {
   "cell_type": "markdown",
   "metadata": {},
   "source": [
    "The missclassification error for the child nodes is 0.3. if there were attribute test conditions that resulted in a lower missclassification error, i would prefer those. but if this is the best i would prefer this.\n",
    "<br>\n",
    "#### Question 7\n",
    "**A)**<br>\n",
    "In the parent node there are 200 objects. 100 belonging to class A, and 100 belonging to class B.\n",
    "- Original Error is = 1 - 100/200 = .5\n",
    "\n",
    "\n",
    "\n"
   ]
  },
  {
   "cell_type": "code",
   "execution_count": 138,
   "metadata": {},
   "outputs": [
    {
     "name": "stdout",
     "output_type": "stream",
     "text": [
      "missclassification error of parent: 0.5\n"
     ]
    }
   ],
   "source": [
    "P_missclass =  missclass_error(100/200,100/200)\n",
    "print(\"missclassification error of parent:\",z)\n"
   ]
  },
  {
   "cell_type": "markdown",
   "metadata": {},
   "source": [
    "the best split on the parent when using the greedy algorithm is a split on z. Then we take the weighted missclass_error of the two children nodes."
   ]
  },
  {
   "cell_type": "code",
   "execution_count": 139,
   "metadata": {},
   "outputs": [
    {
     "name": "stdout",
     "output_type": "stream",
     "text": [
      "weighted missclassification error for the children nodes after a split on z:  0.30000000000000004\n",
      "resulting gain:  0.19999999999999996\n"
     ]
    }
   ],
   "source": [
    "W_missclass = weighted([100/200,100/200],[missclass_error(70/100,30/100),missclass_error(70/100,30/100)])\n",
    "\n",
    "print(\"weighted missclassification error for the children nodes after a split on z: \",W_missclass)\n",
    "print(\"resulting gain: \", gain(P_missclass,W_missclass))"
   ]
  },
  {
   "cell_type": "markdown",
   "metadata": {},
   "source": [
    "Then, for the next split, both x , y yield the same weighted missclassification error, as seen below."
   ]
  },
  {
   "cell_type": "code",
   "execution_count": 140,
   "metadata": {},
   "outputs": [
    {
     "name": "stdout",
     "output_type": "stream",
     "text": [
      "x split:\n",
      "weighted missclassification error: 0.30000000000000004\n"
     ]
    }
   ],
   "source": [
    "missclass_L_x = [missclass_error(25/40,15/40),\n",
    "                 missclass_error(25/40,15/40),\n",
    "                 missclass_error(45/60,15/60),\n",
    "                 missclass_error(45/60,15/60)]\n",
    "weight_L_x = [40/200,\n",
    "              40/200,\n",
    "              60/200,\n",
    "              60/200]\n",
    "\n",
    "xsplit_c = weighted(weight_L_x,missclass_L_x) \n",
    "print(\"x split:\")\n",
    "print(\"weighted missclassification error:\", xsplit_c)"
   ]
  },
  {
   "cell_type": "code",
   "execution_count": 141,
   "metadata": {},
   "outputs": [
    {
     "name": "stdout",
     "output_type": "stream",
     "text": [
      "y split:\n",
      "weighted missclassification error: 0.30000000000000004\n"
     ]
    }
   ],
   "source": [
    "missclass_L_y = [missclass_error(45/60,15/60),\n",
    "                 missclass_error(25/40,15/40),\n",
    "                 missclass_error(25/40,15/40),\n",
    "                 missclass_error(45/60,15/60)]\n",
    "weight_L_y = [60/200,\n",
    "              40/200,\n",
    "              40/200,\n",
    "              60/200]\n",
    "\n",
    "ysplit_c = weighted(weight_L_y,missclass_L_y) \n",
    "print(\"y split:\")\n",
    "print(\"weighted missclassification error:\", ysplit_c)"
   ]
  },
  {
   "cell_type": "markdown",
   "metadata": {},
   "source": [
    "So after a Z-split, and then an X-xplit or Y-split, the resulting error rate .3 of the overall tree.<br>\n",
    "**B)**<br>\n",
    "after the split on X, we can split on Y or Z. The next best split will have the lower error."
   ]
  },
  {
   "cell_type": "code",
   "execution_count": 142,
   "metadata": {},
   "outputs": [
    {
     "name": "stdout",
     "output_type": "stream",
     "text": [
      "weighted missclassification error for the children nodes after a split on x:  0.5\n",
      "resulting gain:  0.0\n"
     ]
    }
   ],
   "source": [
    "X_missclass = weighted([80/200,120/200],[missclass_error(40/80,40/80),missclass_error(60/120,60/120)])\n",
    "\n",
    "print(\"weighted missclassification error for the children nodes after a split on x: \",X_missclass)\n",
    "print(\"resulting gain: \", gain(P_missclass,X_missclass))"
   ]
  },
  {
   "cell_type": "code",
   "execution_count": 143,
   "metadata": {},
   "outputs": [
    {
     "name": "stdout",
     "output_type": "stream",
     "text": [
      "y split:\n",
      "weighted missclassification error: 0.10000000000000002\n",
      "gain after y split: 0.39999999999999997\n"
     ]
    }
   ],
   "source": [
    "Ysplit_weights=[40/200,\n",
    "                40/200,\n",
    "                60/200,\n",
    "                60/200]\n",
    "Ysplit_errors=[missclass_error(5/40,35/40),\n",
    "               missclass_error(35/40,5/40),\n",
    "               missclass_error(55/60,5/60),\n",
    "               missclass_error(5/60,55/60)]\n",
    "Ysplit_c = weighted(Ysplit_weights,Ysplit_errors)\n",
    "print(\"y split:\")\n",
    "print(\"weighted missclassification error:\", Ysplit_c)\n",
    "print(\"gain after y split:\", gain(X_missclass,Ysplit_c))"
   ]
  },
  {
   "cell_type": "code",
   "execution_count": 144,
   "metadata": {},
   "outputs": [
    {
     "name": "stdout",
     "output_type": "stream",
     "text": [
      "y split:\n",
      "weighted missclassification error: 0.30000000000000004\n",
      "gain after z split: 0.19999999999999996\n"
     ]
    }
   ],
   "source": [
    "Zsplit_weights=[40/200,\n",
    "                40/200,\n",
    "                60/200,\n",
    "                60/200]\n",
    "Zsplit_errors=[missclass_error(25/40,15/40),\n",
    "               missclass_error(15/40,25/40),\n",
    "               missclass_error(15/60,45/60),\n",
    "               missclass_error(45/60,15/60)]\n",
    "Zsplit_c = weighted(Zsplit_weights,Zsplit_errors)\n",
    "print(\"y split:\")\n",
    "print(\"weighted missclassification error:\", Zsplit_c)\n",
    "print(\"gain after z split:\", gain(X_missclass,Zsplit_c))"
   ]
  },
  {
   "cell_type": "markdown",
   "metadata": {},
   "source": [
    "As seen, the X split followed by the Y split results in more gain and so the Y split is the better split.<br>\n",
    "**C)**<br>\n",
    "The greedy descision may not always result in a tree which has the best error rate. As seen in A, Splitting on Z led to the best immediate Error rate however after the second split, the Error rate was at .3. Whereas in B, Splitting on X then splitting on Y led to the lowest error rate.\n",
    "<br>\n",
    "#### Question 8\n",
    "**A)** <br>\n",
    "\n",
    "\n",
    "table making practice\n",
    "\n",
    "|  | True | False |\n",
    "| ----------- | ----------- | ----------- |\n",
    "| + | count | count |\n",
    "| - | count | count |"
   ]
  },
  {
   "cell_type": "code",
   "execution_count": 145,
   "metadata": {},
   "outputs": [
    {
     "name": "stdout",
     "output_type": "stream",
     "text": [
      "missclassification error of parent node: 0.5\n"
     ]
    }
   ],
   "source": [
    "missclass_P = missclass_error(50/100,50/100)\n",
    "print(\"missclassification error of parent node:\", missclass_P)"
   ]
  },
  {
   "cell_type": "code",
   "execution_count": 148,
   "metadata": {},
   "outputs": [
    {
     "name": "stdout",
     "output_type": "stream",
     "text": [
      "missclassifcation error of children nodes: 0.5\n"
     ]
    }
   ],
   "source": [
    "weight_l = [50/100,\n",
    "            50/100]\n",
    "missclass_l=[missclass_error(25/50,25/50),\n",
    "             missclass_error(25/50,25/50)]\n",
    "W_missclass = weighted(weight_l,missclass_l)\n",
    "\n",
    "print(\"missclassifcation error of children nodes:\", W_missclass)\n",
    "print(\"gains: :muscle: \")"
   ]
  },
  {
   "cell_type": "code",
   "execution_count": 150,
   "metadata": {},
   "outputs": [
    {
     "name": "stdout",
     "output_type": "stream",
     "text": [
      "missclassifcation error of children nodes: 0.09999999999999998\n"
     ]
    }
   ],
   "source": [
    "weight_l = [25/100,\n",
    "            25/100,\n",
    "            25/100,\n",
    "            25/100]\n",
    "\n",
    "missclass_l=[missclass_error(5/25,20/25),\n",
    "             missclass_error(20/25,5/25),\n",
    "             missclass_error(25/25,0/25),\n",
    "             missclass_error(0/25,25/25)]\n",
    "\n",
    "W_missclass = weighted(weight_l,missclass_l)\n",
    "\n",
    "print(\"missclassifcation error of children nodes:\", W_missclass)"
   ]
  },
  {
   "cell_type": "code",
   "execution_count": null,
   "metadata": {},
   "outputs": [],
   "source": []
  },
  {
   "cell_type": "markdown",
   "metadata": {},
   "source": [
    "\n",
    "## Recitation Exercises\n",
    "## Problem 2.1"
   ]
  },
  {
   "cell_type": "code",
   "execution_count": 32,
   "metadata": {},
   "outputs": [],
   "source": [
    "import numpy as np\n",
    "import pandas as pd\n",
    "from sklearn import datasets\n",
    "from sklearn.preprocessing import Imputer\n",
    "from sklearn import decomposition\n",
    "import matplotlib.pyplot as plt\n",
    "%matplotlib inline"
   ]
  },
  {
   "cell_type": "code",
   "execution_count": 33,
   "metadata": {},
   "outputs": [],
   "source": [
    "from scipy import stats\n",
    "\n",
    "from sklearn.datasets import load_iris\n",
    "\n",
    "from sklearn.tree import DecisionTreeClassifier\n",
    "from sklearn.tree import export_graphviz\n",
    "\n",
    "from sklearn import model_selection\n",
    "from sklearn import metrics"
   ]
  },
  {
   "cell_type": "code",
   "execution_count": 39,
   "metadata": {},
   "outputs": [
    {
     "name": "stdout",
     "output_type": "stream",
     "text": [
      "max_depth = 1 \n",
      "               precision    recall  f1-score   support\n",
      "\n",
      "           0       1.00      1.00      1.00        10\n",
      "           1       0.00      0.00      0.00        13\n",
      "           2       0.35      1.00      0.52         7\n",
      "\n",
      "    accuracy                           0.57        30\n",
      "   macro avg       0.45      0.67      0.51        30\n",
      "weighted avg       0.41      0.57      0.45        30\n",
      "\n",
      "\n",
      "max_depth = 2 \n",
      "               precision    recall  f1-score   support\n",
      "\n",
      "           0       1.00      1.00      1.00        10\n",
      "           1       1.00      0.85      0.92        13\n",
      "           2       0.78      1.00      0.88         7\n",
      "\n",
      "    accuracy                           0.93        30\n",
      "   macro avg       0.93      0.95      0.93        30\n",
      "weighted avg       0.95      0.93      0.93        30\n",
      "\n",
      "\n",
      "max_depth = 3 \n",
      "               precision    recall  f1-score   support\n",
      "\n",
      "           0       1.00      1.00      1.00        10\n",
      "           1       1.00      0.85      0.92        13\n",
      "           2       0.78      1.00      0.88         7\n",
      "\n",
      "    accuracy                           0.93        30\n",
      "   macro avg       0.93      0.95      0.93        30\n",
      "weighted avg       0.95      0.93      0.93        30\n",
      "\n",
      "\n",
      "max_depth = 4 \n",
      "               precision    recall  f1-score   support\n",
      "\n",
      "           0       1.00      1.00      1.00        10\n",
      "           1       1.00      0.85      0.92        13\n",
      "           2       0.78      1.00      0.88         7\n",
      "\n",
      "    accuracy                           0.93        30\n",
      "   macro avg       0.93      0.95      0.93        30\n",
      "weighted avg       0.95      0.93      0.93        30\n",
      "\n",
      "\n",
      "max_depth = 5 \n",
      "               precision    recall  f1-score   support\n",
      "\n",
      "           0       1.00      1.00      1.00        10\n",
      "           1       1.00      0.85      0.92        13\n",
      "           2       0.78      1.00      0.88         7\n",
      "\n",
      "    accuracy                           0.93        30\n",
      "   macro avg       0.93      0.95      0.93        30\n",
      "weighted avg       0.95      0.93      0.93        30\n",
      "\n",
      "\n"
     ]
    },
    {
     "name": "stderr",
     "output_type": "stream",
     "text": [
      "/home/abdullah/anaconda3/lib/python3.7/site-packages/sklearn/metrics/classification.py:1437: UndefinedMetricWarning: Precision and F-score are ill-defined and being set to 0.0 in labels with no predicted samples.\n",
      "  'precision', 'predicted', average, warn_for)\n"
     ]
    }
   ],
   "source": [
    "iris = load_iris()\n",
    "x = iris.data\n",
    "y = iris.target\n",
    "X_train, X_test, y_train, y_test = model_selection.train_test_split(x,y,test_size=0.2,random_state=10)\n",
    "\n",
    "for x in range(5):\n",
    "    classifier = DecisionTreeClassifier(max_depth=x+1,min_samples_split=5,\n",
    "                                        min_impurity_decrease=0.095, random_state=6)\n",
    "    classifier = classifier.fit(X_train,\n",
    "                  y_train)\n",
    "    expected = y_test\n",
    "    predicted = classifier.predict(X_test)\n",
    "    print('max_depth =', x+1, '\\n', metrics.classification_report(expected,predicted))\n",
    "    print()"
   ]
  },
  {
   "cell_type": "code",
   "execution_count": 41,
   "metadata": {},
   "outputs": [
    {
     "name": "stdout",
     "output_type": "stream",
     "text": [
      "[[10  0  0]\n",
      " [ 0 11  2]\n",
      " [ 0  0  7]]\n"
     ]
    }
   ],
   "source": [
    "print(metrics.confusion_matrix(expected,predicted))"
   ]
  },
  {
   "cell_type": "markdown",
   "metadata": {},
   "source": [
    "##  Problem 2.2"
   ]
  },
  {
   "cell_type": "code",
   "execution_count": null,
   "metadata": {},
   "outputs": [],
   "source": []
  }
 ],
 "metadata": {
  "kernelspec": {
   "display_name": "Python 3",
   "language": "python",
   "name": "python3"
  },
  "language_info": {
   "codemirror_mode": {
    "name": "ipython",
    "version": 3
   },
   "file_extension": ".py",
   "mimetype": "text/x-python",
   "name": "python",
   "nbconvert_exporter": "python",
   "pygments_lexer": "ipython3",
   "version": "3.7.4"
  }
 },
 "nbformat": 4,
 "nbformat_minor": 2
}
