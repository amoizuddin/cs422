{
 "cells": [
  {
   "cell_type": "markdown",
   "metadata": {},
   "source": [
    "# Homework 1\n",
    "#### Name: Abdullah Moizuddin\n",
    "#### Class: CS 422"
   ]
  },
  {
   "cell_type": "markdown",
   "metadata": {},
   "source": [
    "### 'Recitation Exercises'\n",
    "1. \n",
    "#### Exercise 1\n",
    "**A.**\n",
    "Dividing customers of a company according to their gender could be a data preprocessing task. I think a query would accomplish this.<br><br>\n",
    "**B.** \n",
    "Dividing customers of a company according to their profitability could be a data preprocessing task. Like separating gender, this can be accomplished by a query with specified thresholds that define what is ‘profitable’ vs ‘not as profitable’<br><br>\n",
    "**C.** \n",
    "Computing the total sales of a company is more of a task that can be accomplished by a few lines of code. I don’t think its a data mining task as its just basic computation.<br><br>\n",
    "**D.** \n",
    "Sorting a student database based off of student ID numbers is more of a data preprocessing task. As the only operation being done on this is a sort so that can be done using an SQL query.<br><br>\n",
    "**E.** \n",
    "Predicting the outcomes of a fair dice toss is a simple probability. If the dice wasn’t fair then predicting its outcome could be a data mining task. But because it’s fair, there is an equal chance for it to land on each side.<br><br>\n",
    "**F.** \n",
    "I think predicting future stock prices is a data mining task. Using a dataset of historical records to predict which stock will rise and will plummet could help people invest in stocks which will make them money.<br><br>\n",
    "**G.** \n",
    "Monitoring a patient’s heart rate could also be a data mining activity. By monitoring heart rate and looking for abnormalities, you can use that information to identify or predict signs of heart disease or diabetes.<br><br>\n",
    "**H.** \n",
    "Monitoring seismic waves could also be a data mining activity. We could monitor this activity and use a model to classify what is normal vs abnormal activity.<br><br>\n",
    "**I.** \n",
    "Extracting frequencies of a sound wave isn’t a data mining task. It’s more of a processing task than anything else.<br><br>\n",
    "2. \n",
    "#### Exercise 2\n",
    "**A.** \n",
    "Binary, Qualitative, Nominal\n",
    "<br><br>\n",
    "**B.**\n",
    "Continuous, Quantitative, Ratio\n",
    "<br><br>\n",
    "**C.**\n",
    "Discrete, Qualitative, Ordinal\n",
    "<br><br>\n",
    "**D.**\n",
    "Continuous, Quantitative, Ratio\n",
    "<br><br>\n",
    "**E.**\n",
    "Discrete, Qualitative, Ordinal\n",
    "<br><br>\n",
    "7. \n",
    "#### Exercise 7\n",
    "Daily rainfall is dependant on the amount of water that evaporated in the days prior. So if there is a very hot day there might be a lot of rain in the next few days due to evaporation. Rainfall is inherently more scattered. However daily temperatures are more closely related. If it is the middle of summer its likely that there won’t be snow anytime soon. So, daily temperature shows more temporal autocorrelation.\n",
    "<br><br>\n",
    "15. \n",
    "#### Exercise 15\n",
    "**A.**\n",
    "This is proportional sampling. The sample is formed by each of the $k$ groups. Thus, you have a 'representative' from each group and get a sample that is proportional to the the dataset. It is beneficial to use this sampling scheme if there isnt much diversity in each group. It is easier to maintian diverity of the dataset if there is a representative from each group. Also, the variance from the data set to the sample is maintained when you do proportional sampling.\n",
    "<br><br>\n",
    "**B.**\n",
    "Random sampling, even though its easier, randomly selects $n$ elements from the dataset without any regard to its grouping. Which isn't a good thing because it doesnt maintain the variance of the dataset which is what we need.\n",
    "<br><br>\n",
    "16. \n",
    "#### Exercise 16\n",
    "$tf'_{ij}=tf_{ij} * log \\frac{m}{df_i}$ <br><br>\n",
    "Where,<br> \n",
    "$df_i$ is the number of documents the $i^{th}$ term appears. <br><br>\n",
    "$tf'_{ij}$ is the frequencey of the $i^{th}$ term in the the $j^{th}$ document. <br><br>\n",
    "$m$ is the number of documents.<br><br>\n",
    "**A.** \n",
    "If a term occurs in one document, the formula becomes,\n",
    "$tf'_{ij}=tf_{ij} * log \\frac{m}{1}$\n",
    "which is the maximum value. and the value of $tf'_{ij}$ will be high. This the $i^{th}$ term is significant and it effects the measure of simmilarity between documents. If the term is in every documents then,\n",
    "$log \\frac{m}{df_i}$ will go towards $0$. This means that the term is common and it can be found in every document.<br><br>\n",
    "**B.**\n",
    "I think the purpose of this transformation is to see how important the term is. The common terms will be eliminated from the simmilarity calculation and only the important terms wil remain.<br><br>\n",
    "17. \n",
    "#### Exercise 17\n",
    "**A.**\n",
    "The interval in which $x^*$ has a linear relationship to attribute $y$ is $(a,b)$.<br>\n",
    "So, $x^*$ in terms of $x$ is $\\sqrt{x} = x^*$. <br>\n",
    "Then, $x$ in terms of $x^*$ is $(x^*)^2 = x$ and the interval in terms of $x$ is $(a^2,b^2)$<br><br>\n",
    "**B.**\n",
    "$y = x^2 + C$<br><br>\n",
    "18. \n",
    "#### Exercise 18\n",
    "**A.**<br>\n",
    "$x = 0101010001$<br>\n",
    "$y = 0100011000$<br><br>\n",
    "Hamming Distance = $3$<br>\n",
    "Jaccard Measure = $\\frac{2}{5}$<br>\n",
    "**B.**<br>\n",
    "Hamming Distance is simmilar to Simple Matching Coefficient because simple matching coefficient = hamming distance/# of data points\n",
    "Jaccard Measure is simmilar to cosine simmilarity as both measures ignore 0-0 measures.<br><br>\n",
    "**C.**<br>\n",
    "I think Jaccard would be better suited for this because we want to see the genes that the organisms share and jaccard ignores the 0-0 measures which would make it a suitable measure.<br><br>\n",
    "**D.**<br>\n",
    "For this I think Hamming would be better as we are trying to see how the genes of the organisms are different. If we were to use Jaccard, we would just see that the two organisms have a simmilarity score very close to $1$\n",
    "19. \n",
    "#### Exercise 19\n",
    "\n",
    "\n"
   ]
  },
  {
   "cell_type": "code",
   "execution_count": 113,
   "metadata": {},
   "outputs": [],
   "source": [
    "class Vectors(object):\n",
    "    def __init__(self, x, y):\n",
    "        self.x = x\n",
    "        self.y = y\n",
    "    def corr(self):\n",
    "        toInt = lambda s: int(s)\n",
    "        def std_dev(vector):\n",
    "            size = len(vector)\n",
    "            mean = sum(map(toInt, vector)) / size\n",
    "            squareDiff = lambda x : (x - mean)**2\n",
    "            return ((1 / (size-1)) * (sum (map(squareDiff, (map(toInt, vector)))))) ** (1 / 2)\n",
    "        \n",
    "        def covar(x, y):\n",
    "            sizeX = len(x)\n",
    "            sizeY = len(y)\n",
    "            meanX = sum(map(toInt, x)) / sizeX\n",
    "            meanY = sum(map(toInt, y)) / sizeY\n",
    "\n",
    "            func = lambda tup : (tup[0] - meanX) * (tup[1] - meanY)\n",
    "\n",
    "            return (1 / (sizeX-1)) * sum(map(func, zip(map(toInt, x), map(toInt, y))))\n",
    "\n",
    "        try:\n",
    "            return covar(self.x, self.y) / (std_dev(self.x) * std_dev(self.y))\n",
    "        except:\n",
    "            return 'undefined'\n",
    "\n",
    "    def cosSim(self):\n",
    "        dotProduct = sum(map(lambda tup: int(tup[0]) * int(tup[1]), zip(self.x, self.y)))\n",
    "        magnX = (sum(map(lambda n : int(n)**2, self.x))) ** (1/2)\n",
    "        magnY = (sum(map(lambda n: int(n)**2, self.y))) ** (1/2)\n",
    "        return dotProduct / (magnX * magnY)\n",
    "\n",
    "    def euclidDist(self):\n",
    "        return sum(map(lambda tup: (tup[0] - tup[1])**2  ,zip(self.x, self.y)))\n",
    "\n",
    "    def jaccard(self):\n",
    "        num = sum(map(lambda tup: 1 if tup[0] == 1 and tup[1]== 1 else 0 ,zip(self.x, self.y)))\n",
    "        denom = sum(map(lambda tup: 1 if tup[0] != 0 or tup[1] != 0 else 0, zip(self.x, self.y)))\n",
    "        return num / denom\n",
    "        "
   ]
  },
  {
   "cell_type": "markdown",
   "metadata": {},
   "source": [
    "**A.**<br>\n",
    "Cosine, Correlation, Euclidean <br>\n",
    "$x = (1, 1, 1, 1)$<br>\n",
    "$y = (2, 2, 2, 2)$ <br>"
   ]
  },
  {
   "cell_type": "code",
   "execution_count": 114,
   "metadata": {},
   "outputs": [
    {
     "name": "stdout",
     "output_type": "stream",
     "text": [
      "Correlation: undefined\n",
      "Cosine Similarity: 1.0\n",
      "Euclidean Distance: 4\n"
     ]
    }
   ],
   "source": [
    "v = Vectors((1, 1, 1, 1),(2, 2, 2, 2))\n",
    "print(\"Correlation:\", v.corr())\n",
    "print(\"Cosine Similarity:\", v.cosSim())\n",
    "print(\"Euclidean Distance:\",v.euclidDist())"
   ]
  },
  {
   "cell_type": "markdown",
   "metadata": {},
   "source": [
    "**B.**<br>\n",
    "Cosine, Correlation, Euclidean, Jaccard <br>\n",
    "$x = (0, 1, 0, 1)$<br>\n",
    "$y = (1, 0, 1, 0)$ <br>"
   ]
  },
  {
   "cell_type": "code",
   "execution_count": 115,
   "metadata": {},
   "outputs": [
    {
     "name": "stdout",
     "output_type": "stream",
     "text": [
      "Cosine Similarity: 0.0\n",
      "Correlation: -1.0\n",
      "Euclidean Distance: 4\n",
      "Jaccard: 0.0\n"
     ]
    }
   ],
   "source": [
    "v = Vectors((0, 1, 0, 1),(1, 0, 1, 0))\n",
    "print(\"Cosine Similarity:\", v.cosSim())\n",
    "print(\"Correlation:\", v.corr())\n",
    "print(\"Euclidean Distance:\",v.euclidDist())\n",
    "print(\"Jaccard:\", v.jaccard())"
   ]
  },
  {
   "cell_type": "markdown",
   "metadata": {},
   "source": [
    "**C.**<br>\n",
    "Cosine, Correlation, Euclidean <br>\n",
    "$x = (0, -1, 0, 1)$<br>\n",
    "$y = (1, 0, -1, 0)$ <br>"
   ]
  },
  {
   "cell_type": "code",
   "execution_count": 116,
   "metadata": {},
   "outputs": [
    {
     "name": "stdout",
     "output_type": "stream",
     "text": [
      "Cosine Similarity: 0.0\n",
      "Correlation: 0.0\n",
      "Euclidean Distance: 4\n"
     ]
    }
   ],
   "source": [
    "v = Vectors((0, -1, 0, 1),(1, 0, -1, 0))\n",
    "print(\"Cosine Similarity:\", v.cosSim())\n",
    "print(\"Correlation:\", v.corr())\n",
    "print(\"Euclidean Distance:\",v.euclidDist())"
   ]
  },
  {
   "cell_type": "markdown",
   "metadata": {},
   "source": [
    "**D.**<br>\n",
    "Cosine, Correlation, Jaccard <br>\n",
    "$x = (1, 1, 0, 1, 0, 1)$<br>\n",
    "$y = (1, 1, 1, 0, 0, 1)$ <br>"
   ]
  },
  {
   "cell_type": "code",
   "execution_count": 117,
   "metadata": {},
   "outputs": [
    {
     "name": "stdout",
     "output_type": "stream",
     "text": [
      "Cosine Similarity: 0.75\n",
      "Correlation: 0.25\n",
      "Jaccard: 0.6\n"
     ]
    }
   ],
   "source": [
    "\n",
    "v = Vectors((1, 1, 0, 1, 0, 1),(1, 1, 1, 0, 0, 1))\n",
    "print(\"Cosine Similarity:\", v.cosSim())\n",
    "print(\"Correlation:\", v.corr())\n",
    "print(\"Jaccard:\",v.jaccard())"
   ]
  },
  {
   "cell_type": "markdown",
   "metadata": {},
   "source": [
    "**E.**<br>\n",
    "Cosine, Correlation <br>\n",
    "$x = ( 2,-1, 0, 2, 0,-3)$<br>\n",
    "$y = (-1, 1,-1, 0, 0,-1)$ <br>"
   ]
  },
  {
   "cell_type": "code",
   "execution_count": 118,
   "metadata": {},
   "outputs": [
    {
     "name": "stdout",
     "output_type": "stream",
     "text": [
      "Cosine Similarity: -0.7071067811865476\n",
      "Correlation: -0.6324555320336757\n"
     ]
    }
   ],
   "source": [
    "v = Vectors((2, -1, 0, 2, 0, 3),(-1, 1, -1, 0, 0, -1))\n",
    "print(\"Cosine Similarity:\", v.cosSim())\n",
    "print(\"Correlation:\", v.corr())"
   ]
  },
  {
   "cell_type": "markdown",
   "metadata": {},
   "source": [
    "## Practicum Problems"
   ]
  },
  {
   "cell_type": "markdown",
   "metadata": {},
   "source": [
    "### Problem 2.1"
   ]
  },
  {
   "cell_type": "code",
   "execution_count": 119,
   "metadata": {},
   "outputs": [],
   "source": [
    "import numpy as np\n",
    "import seaborn as sn\n",
    "import matplotlib.pyplot as plt\n",
    "import seaborn as sn\n",
    "import pandas as pd\n",
    "from sklearn.impute import SimpleImputer as Imputer\n",
    "%matplotlib inline"
   ]
  },
  {
   "cell_type": "markdown",
   "metadata": {},
   "source": [
    "#### Visualization of the dataset"
   ]
  },
  {
   "cell_type": "code",
   "execution_count": 120,
   "metadata": {},
   "outputs": [
    {
     "data": {
      "text/html": [
       "<div>\n",
       "<style scoped>\n",
       "    .dataframe tbody tr th:only-of-type {\n",
       "        vertical-align: middle;\n",
       "    }\n",
       "\n",
       "    .dataframe tbody tr th {\n",
       "        vertical-align: top;\n",
       "    }\n",
       "\n",
       "    .dataframe thead th {\n",
       "        text-align: right;\n",
       "    }\n",
       "</style>\n",
       "<table border=\"1\" class=\"dataframe\">\n",
       "  <thead>\n",
       "    <tr style=\"text-align: right;\">\n",
       "      <th></th>\n",
       "      <th>survived</th>\n",
       "      <th>pclass</th>\n",
       "      <th>sex</th>\n",
       "      <th>age</th>\n",
       "      <th>sibsp</th>\n",
       "      <th>parch</th>\n",
       "      <th>fare</th>\n",
       "      <th>embarked</th>\n",
       "      <th>class</th>\n",
       "      <th>who</th>\n",
       "      <th>adult_male</th>\n",
       "      <th>deck</th>\n",
       "      <th>embark_town</th>\n",
       "      <th>alive</th>\n",
       "      <th>alone</th>\n",
       "    </tr>\n",
       "  </thead>\n",
       "  <tbody>\n",
       "    <tr>\n",
       "      <td>0</td>\n",
       "      <td>0</td>\n",
       "      <td>3</td>\n",
       "      <td>male</td>\n",
       "      <td>22.0</td>\n",
       "      <td>1</td>\n",
       "      <td>0</td>\n",
       "      <td>7.2500</td>\n",
       "      <td>S</td>\n",
       "      <td>Third</td>\n",
       "      <td>man</td>\n",
       "      <td>True</td>\n",
       "      <td>NaN</td>\n",
       "      <td>Southampton</td>\n",
       "      <td>no</td>\n",
       "      <td>False</td>\n",
       "    </tr>\n",
       "    <tr>\n",
       "      <td>1</td>\n",
       "      <td>1</td>\n",
       "      <td>1</td>\n",
       "      <td>female</td>\n",
       "      <td>38.0</td>\n",
       "      <td>1</td>\n",
       "      <td>0</td>\n",
       "      <td>71.2833</td>\n",
       "      <td>C</td>\n",
       "      <td>First</td>\n",
       "      <td>woman</td>\n",
       "      <td>False</td>\n",
       "      <td>C</td>\n",
       "      <td>Cherbourg</td>\n",
       "      <td>yes</td>\n",
       "      <td>False</td>\n",
       "    </tr>\n",
       "    <tr>\n",
       "      <td>2</td>\n",
       "      <td>1</td>\n",
       "      <td>3</td>\n",
       "      <td>female</td>\n",
       "      <td>26.0</td>\n",
       "      <td>0</td>\n",
       "      <td>0</td>\n",
       "      <td>7.9250</td>\n",
       "      <td>S</td>\n",
       "      <td>Third</td>\n",
       "      <td>woman</td>\n",
       "      <td>False</td>\n",
       "      <td>NaN</td>\n",
       "      <td>Southampton</td>\n",
       "      <td>yes</td>\n",
       "      <td>True</td>\n",
       "    </tr>\n",
       "    <tr>\n",
       "      <td>3</td>\n",
       "      <td>1</td>\n",
       "      <td>1</td>\n",
       "      <td>female</td>\n",
       "      <td>35.0</td>\n",
       "      <td>1</td>\n",
       "      <td>0</td>\n",
       "      <td>53.1000</td>\n",
       "      <td>S</td>\n",
       "      <td>First</td>\n",
       "      <td>woman</td>\n",
       "      <td>False</td>\n",
       "      <td>C</td>\n",
       "      <td>Southampton</td>\n",
       "      <td>yes</td>\n",
       "      <td>False</td>\n",
       "    </tr>\n",
       "    <tr>\n",
       "      <td>4</td>\n",
       "      <td>0</td>\n",
       "      <td>3</td>\n",
       "      <td>male</td>\n",
       "      <td>35.0</td>\n",
       "      <td>0</td>\n",
       "      <td>0</td>\n",
       "      <td>8.0500</td>\n",
       "      <td>S</td>\n",
       "      <td>Third</td>\n",
       "      <td>man</td>\n",
       "      <td>True</td>\n",
       "      <td>NaN</td>\n",
       "      <td>Southampton</td>\n",
       "      <td>no</td>\n",
       "      <td>True</td>\n",
       "    </tr>\n",
       "    <tr>\n",
       "      <td>...</td>\n",
       "      <td>...</td>\n",
       "      <td>...</td>\n",
       "      <td>...</td>\n",
       "      <td>...</td>\n",
       "      <td>...</td>\n",
       "      <td>...</td>\n",
       "      <td>...</td>\n",
       "      <td>...</td>\n",
       "      <td>...</td>\n",
       "      <td>...</td>\n",
       "      <td>...</td>\n",
       "      <td>...</td>\n",
       "      <td>...</td>\n",
       "      <td>...</td>\n",
       "      <td>...</td>\n",
       "    </tr>\n",
       "    <tr>\n",
       "      <td>886</td>\n",
       "      <td>0</td>\n",
       "      <td>2</td>\n",
       "      <td>male</td>\n",
       "      <td>27.0</td>\n",
       "      <td>0</td>\n",
       "      <td>0</td>\n",
       "      <td>13.0000</td>\n",
       "      <td>S</td>\n",
       "      <td>Second</td>\n",
       "      <td>man</td>\n",
       "      <td>True</td>\n",
       "      <td>NaN</td>\n",
       "      <td>Southampton</td>\n",
       "      <td>no</td>\n",
       "      <td>True</td>\n",
       "    </tr>\n",
       "    <tr>\n",
       "      <td>887</td>\n",
       "      <td>1</td>\n",
       "      <td>1</td>\n",
       "      <td>female</td>\n",
       "      <td>19.0</td>\n",
       "      <td>0</td>\n",
       "      <td>0</td>\n",
       "      <td>30.0000</td>\n",
       "      <td>S</td>\n",
       "      <td>First</td>\n",
       "      <td>woman</td>\n",
       "      <td>False</td>\n",
       "      <td>B</td>\n",
       "      <td>Southampton</td>\n",
       "      <td>yes</td>\n",
       "      <td>True</td>\n",
       "    </tr>\n",
       "    <tr>\n",
       "      <td>888</td>\n",
       "      <td>0</td>\n",
       "      <td>3</td>\n",
       "      <td>female</td>\n",
       "      <td>NaN</td>\n",
       "      <td>1</td>\n",
       "      <td>2</td>\n",
       "      <td>23.4500</td>\n",
       "      <td>S</td>\n",
       "      <td>Third</td>\n",
       "      <td>woman</td>\n",
       "      <td>False</td>\n",
       "      <td>NaN</td>\n",
       "      <td>Southampton</td>\n",
       "      <td>no</td>\n",
       "      <td>False</td>\n",
       "    </tr>\n",
       "    <tr>\n",
       "      <td>889</td>\n",
       "      <td>1</td>\n",
       "      <td>1</td>\n",
       "      <td>male</td>\n",
       "      <td>26.0</td>\n",
       "      <td>0</td>\n",
       "      <td>0</td>\n",
       "      <td>30.0000</td>\n",
       "      <td>C</td>\n",
       "      <td>First</td>\n",
       "      <td>man</td>\n",
       "      <td>True</td>\n",
       "      <td>C</td>\n",
       "      <td>Cherbourg</td>\n",
       "      <td>yes</td>\n",
       "      <td>True</td>\n",
       "    </tr>\n",
       "    <tr>\n",
       "      <td>890</td>\n",
       "      <td>0</td>\n",
       "      <td>3</td>\n",
       "      <td>male</td>\n",
       "      <td>32.0</td>\n",
       "      <td>0</td>\n",
       "      <td>0</td>\n",
       "      <td>7.7500</td>\n",
       "      <td>Q</td>\n",
       "      <td>Third</td>\n",
       "      <td>man</td>\n",
       "      <td>True</td>\n",
       "      <td>NaN</td>\n",
       "      <td>Queenstown</td>\n",
       "      <td>no</td>\n",
       "      <td>True</td>\n",
       "    </tr>\n",
       "  </tbody>\n",
       "</table>\n",
       "<p>891 rows × 15 columns</p>\n",
       "</div>"
      ],
      "text/plain": [
       "     survived  pclass     sex   age  sibsp  parch     fare embarked   class  \\\n",
       "0           0       3    male  22.0      1      0   7.2500        S   Third   \n",
       "1           1       1  female  38.0      1      0  71.2833        C   First   \n",
       "2           1       3  female  26.0      0      0   7.9250        S   Third   \n",
       "3           1       1  female  35.0      1      0  53.1000        S   First   \n",
       "4           0       3    male  35.0      0      0   8.0500        S   Third   \n",
       "..        ...     ...     ...   ...    ...    ...      ...      ...     ...   \n",
       "886         0       2    male  27.0      0      0  13.0000        S  Second   \n",
       "887         1       1  female  19.0      0      0  30.0000        S   First   \n",
       "888         0       3  female   NaN      1      2  23.4500        S   Third   \n",
       "889         1       1    male  26.0      0      0  30.0000        C   First   \n",
       "890         0       3    male  32.0      0      0   7.7500        Q   Third   \n",
       "\n",
       "       who  adult_male deck  embark_town alive  alone  \n",
       "0      man        True  NaN  Southampton    no  False  \n",
       "1    woman       False    C    Cherbourg   yes  False  \n",
       "2    woman       False  NaN  Southampton   yes   True  \n",
       "3    woman       False    C  Southampton   yes  False  \n",
       "4      man        True  NaN  Southampton    no   True  \n",
       "..     ...         ...  ...          ...   ...    ...  \n",
       "886    man        True  NaN  Southampton    no   True  \n",
       "887  woman       False    B  Southampton   yes   True  \n",
       "888  woman       False  NaN  Southampton    no  False  \n",
       "889    man        True    C    Cherbourg   yes   True  \n",
       "890    man        True  NaN   Queenstown    no   True  \n",
       "\n",
       "[891 rows x 15 columns]"
      ]
     },
     "execution_count": 120,
     "metadata": {},
     "output_type": "execute_result"
    }
   ],
   "source": [
    "ds  = sn.load_dataset('titanic')\n",
    "ds"
   ]
  },
  {
   "cell_type": "markdown",
   "metadata": {},
   "source": [
    "#### Gender Distribution of the survivors"
   ]
  },
  {
   "cell_type": "code",
   "execution_count": 121,
   "metadata": {},
   "outputs": [
    {
     "data": {
      "text/plain": [
       "<matplotlib.axes._subplots.AxesSubplot at 0x7ff90afd99d0>"
      ]
     },
     "execution_count": 121,
     "metadata": {},
     "output_type": "execute_result"
    },
    {
     "data": {
      "image/png": "[encoded data removed]",
      "text/plain": [
       "<Figure size 432x288 with 1 Axes>"
      ]
     },
     "metadata": {
      "needs_background": "light"
     },
     "output_type": "display_data"
    }
   ],
   "source": [
    "survivors = ds[ds.survived == 1]\n",
    "survivors['sex'].hist(bins=2)"
   ]
  },
  {
   "cell_type": "markdown",
   "metadata": {},
   "source": [
    "From this we can see that the count of males that survived were significantly lower thatn the females that survived. This seems accurate because they were prioritizing women and children."
   ]
  },
  {
   "cell_type": "markdown",
   "metadata": {},
   "source": [
    "#### Age distribution of the survivors"
   ]
  },
  {
   "cell_type": "code",
   "execution_count": 122,
   "metadata": {},
   "outputs": [
    {
     "data": {
      "text/plain": [
       "<matplotlib.axes._subplots.AxesSubplot at 0x7ff90a1821d0>"
      ]
     },
     "execution_count": 122,
     "metadata": {},
     "output_type": "execute_result"
    },
    {
     "data": {
      "image/png": "[encoded data removed]",
      "text/plain": [
       "<Figure size 432x288 with 1 Axes>"
      ]
     },
     "metadata": {
      "needs_background": "light"
     },
     "output_type": "display_data"
    }
   ],
   "source": [
    "survivors['age'].hist(bins=80)"
   ]
  },
  {
   "cell_type": "markdown",
   "metadata": {},
   "source": [
    "From this we can see that most of the survivors were between 15-35. \n",
    "Another thing to notice is that there was also a priority in saving children which is why children 5 and under have a high count of being saved."
   ]
  },
  {
   "cell_type": "markdown",
   "metadata": {},
   "source": [
    "### Problem 2.2"
   ]
  },
  {
   "cell_type": "markdown",
   "metadata": {},
   "source": [
    "I created a mapping towards the different datasets that I am going to use. I'm read_csving to each dataset object because copying it from a main dataset ended up giving me the same values after I imputed."
   ]
  },
  {
   "cell_type": "code",
   "execution_count": 139,
   "metadata": {},
   "outputs": [
    {
     "data": {
      "text/html": [
       "<div>\n",
       "<style scoped>\n",
       "    .dataframe tbody tr th:only-of-type {\n",
       "        vertical-align: middle;\n",
       "    }\n",
       "\n",
       "    .dataframe tbody tr th {\n",
       "        vertical-align: top;\n",
       "    }\n",
       "\n",
       "    .dataframe thead th {\n",
       "        text-align: right;\n",
       "    }\n",
       "</style>\n",
       "<table border=\"1\" class=\"dataframe\">\n",
       "  <thead>\n",
       "    <tr style=\"text-align: right;\">\n",
       "      <th></th>\n",
       "      <th>mpg</th>\n",
       "      <th>cylinders</th>\n",
       "      <th>displacement</th>\n",
       "      <th>horsepower</th>\n",
       "      <th>weight</th>\n",
       "      <th>acceleration</th>\n",
       "      <th>model year</th>\n",
       "      <th>origin</th>\n",
       "    </tr>\n",
       "  </thead>\n",
       "  <tbody>\n",
       "    <tr>\n",
       "      <td>count</td>\n",
       "      <td>398.000000</td>\n",
       "      <td>398.000000</td>\n",
       "      <td>398.000000</td>\n",
       "      <td>392.000000</td>\n",
       "      <td>398.000000</td>\n",
       "      <td>398.000000</td>\n",
       "      <td>398.000000</td>\n",
       "      <td>398.000000</td>\n",
       "    </tr>\n",
       "    <tr>\n",
       "      <td>mean</td>\n",
       "      <td>23.514573</td>\n",
       "      <td>5.454774</td>\n",
       "      <td>193.425879</td>\n",
       "      <td>104.469388</td>\n",
       "      <td>2970.424623</td>\n",
       "      <td>15.568090</td>\n",
       "      <td>76.010050</td>\n",
       "      <td>1.572864</td>\n",
       "    </tr>\n",
       "    <tr>\n",
       "      <td>std</td>\n",
       "      <td>7.815984</td>\n",
       "      <td>1.701004</td>\n",
       "      <td>104.269838</td>\n",
       "      <td>38.491160</td>\n",
       "      <td>846.841774</td>\n",
       "      <td>2.757689</td>\n",
       "      <td>3.697627</td>\n",
       "      <td>0.802055</td>\n",
       "    </tr>\n",
       "    <tr>\n",
       "      <td>min</td>\n",
       "      <td>9.000000</td>\n",
       "      <td>3.000000</td>\n",
       "      <td>68.000000</td>\n",
       "      <td>46.000000</td>\n",
       "      <td>1613.000000</td>\n",
       "      <td>8.000000</td>\n",
       "      <td>70.000000</td>\n",
       "      <td>1.000000</td>\n",
       "    </tr>\n",
       "    <tr>\n",
       "      <td>25%</td>\n",
       "      <td>17.500000</td>\n",
       "      <td>4.000000</td>\n",
       "      <td>104.250000</td>\n",
       "      <td>75.000000</td>\n",
       "      <td>2223.750000</td>\n",
       "      <td>13.825000</td>\n",
       "      <td>73.000000</td>\n",
       "      <td>1.000000</td>\n",
       "    </tr>\n",
       "    <tr>\n",
       "      <td>50%</td>\n",
       "      <td>23.000000</td>\n",
       "      <td>4.000000</td>\n",
       "      <td>148.500000</td>\n",
       "      <td>93.500000</td>\n",
       "      <td>2803.500000</td>\n",
       "      <td>15.500000</td>\n",
       "      <td>76.000000</td>\n",
       "      <td>1.000000</td>\n",
       "    </tr>\n",
       "    <tr>\n",
       "      <td>75%</td>\n",
       "      <td>29.000000</td>\n",
       "      <td>8.000000</td>\n",
       "      <td>262.000000</td>\n",
       "      <td>126.000000</td>\n",
       "      <td>3608.000000</td>\n",
       "      <td>17.175000</td>\n",
       "      <td>79.000000</td>\n",
       "      <td>2.000000</td>\n",
       "    </tr>\n",
       "    <tr>\n",
       "      <td>max</td>\n",
       "      <td>46.600000</td>\n",
       "      <td>8.000000</td>\n",
       "      <td>455.000000</td>\n",
       "      <td>230.000000</td>\n",
       "      <td>5140.000000</td>\n",
       "      <td>24.800000</td>\n",
       "      <td>82.000000</td>\n",
       "      <td>3.000000</td>\n",
       "    </tr>\n",
       "  </tbody>\n",
       "</table>\n",
       "</div>"
      ],
      "text/plain": [
       "              mpg   cylinders  displacement  horsepower       weight  \\\n",
       "count  398.000000  398.000000    398.000000  392.000000   398.000000   \n",
       "mean    23.514573    5.454774    193.425879  104.469388  2970.424623   \n",
       "std      7.815984    1.701004    104.269838   38.491160   846.841774   \n",
       "min      9.000000    3.000000     68.000000   46.000000  1613.000000   \n",
       "25%     17.500000    4.000000    104.250000   75.000000  2223.750000   \n",
       "50%     23.000000    4.000000    148.500000   93.500000  2803.500000   \n",
       "75%     29.000000    8.000000    262.000000  126.000000  3608.000000   \n",
       "max     46.600000    8.000000    455.000000  230.000000  5140.000000   \n",
       "\n",
       "       acceleration  model year      origin  \n",
       "count    398.000000  398.000000  398.000000  \n",
       "mean      15.568090   76.010050    1.572864  \n",
       "std        2.757689    3.697627    0.802055  \n",
       "min        8.000000   70.000000    1.000000  \n",
       "25%       13.825000   73.000000    1.000000  \n",
       "50%       15.500000   76.000000    1.000000  \n",
       "75%       17.175000   79.000000    2.000000  \n",
       "max       24.800000   82.000000    3.000000  "
      ]
     },
     "execution_count": 139,
     "metadata": {},
     "output_type": "execute_result"
    }
   ],
   "source": [
    "path = 'http://archive.ics.uci.edu/ml/machine-learning-databases/auto-mpg/auto-mpg.data'\n",
    "features = ['mpg', 'cylinders','displacement','horsepower','weight',\n",
    "            'acceleration','model year', 'origin','car name']\n",
    "\n",
    "datasets = {\"normal\":None,\n",
    "            \"mean\":None,\n",
    "            \"median\":None,\n",
    "            \"mode\":None}\n",
    "\n",
    "for dataset in datasets:\n",
    "    datasets[dataset] = pd.read_csv(path, delim_whitespace=True, na_values=['?'],names = features)\n",
    "    datasets[dataset] = datasets[dataset].replace('?',np.nan)\n",
    "datasets[\"normal\"].describe()"
   ]
  },
  {
   "cell_type": "markdown",
   "metadata": {},
   "source": [
    "#### Mean Imputation Strategy"
   ]
  },
  {
   "cell_type": "code",
   "execution_count": 140,
   "metadata": {},
   "outputs": [
    {
     "data": {
      "text/plain": [
       "1459.1779160026776"
      ]
     },
     "execution_count": 140,
     "metadata": {},
     "output_type": "execute_result"
    }
   ],
   "source": [
    "imp = Imputer(missing_values = np.nan, strategy = \"mean\")\n",
    "datasets[\"mean\"].horsepower = imp.fit_transform(datasets[\"mean\"][[\"horsepower\"]])\n",
    "datasets[\"mean\"][\"horsepower\"].var()"
   ]
  },
  {
   "cell_type": "markdown",
   "metadata": {},
   "source": [
    "#### Median Imputation Strategy"
   ]
  },
  {
   "cell_type": "code",
   "execution_count": 141,
   "metadata": {},
   "outputs": [
    {
     "data": {
      "text/plain": [
       "1460.96905180816"
      ]
     },
     "execution_count": 141,
     "metadata": {},
     "output_type": "execute_result"
    }
   ],
   "source": [
    "imp = Imputer(missing_values = np.nan, strategy = \"median\")\n",
    "datasets[\"median\"].horsepower = imp.fit_transform(datasets[\"median\"][[\"horsepower\"]])\n",
    "datasets[\"median\"][\"horsepower\"].var()"
   ]
  },
  {
   "cell_type": "markdown",
   "metadata": {},
   "source": [
    "#### Mode Imputation Strategy"
   ]
  },
  {
   "cell_type": "code",
   "execution_count": 142,
   "metadata": {},
   "outputs": [
    {
     "data": {
      "text/plain": [
       "1490.0361252104324"
      ]
     },
     "execution_count": 142,
     "metadata": {},
     "output_type": "execute_result"
    }
   ],
   "source": [
    "imp = Imputer(missing_values = np.nan, strategy=\"most_frequent\")\n",
    "datasets[\"mode\"].horsepower = imp.fit_transform(datasets[\"mode\"][[\"horsepower\"]])\n",
    "datasets[\"mode\"][\"horsepower\"].var()"
   ]
  },
  {
   "cell_type": "markdown",
   "metadata": {},
   "source": [
    "From this we can see that when the missing values are replaced with the mean the variance is less. This is because variance is a measure of how far data points deviate from the mean. If the missing data points are replaced with the mean, then they are going to be closer to the mean. I think the ideal method of imputing values would be to predict what the horsepower will be based off of the cylinders and displacement of each car. As seen in the statical summary, as cylinder count and displacement increase horsepower increases also. Thus, we can come up with a more accurate estimate of the horsepower a car will have."
   ]
  },
  {
   "cell_type": "markdown",
   "metadata": {},
   "source": [
    "### Problem 2.3"
   ]
  },
  {
   "cell_type": "code",
   "execution_count": 243,
   "metadata": {},
   "outputs": [],
   "source": [
    "from sklearn.decomposition import PCA\n",
    "from sklearn.metrics import explained_variance_score\n",
    "path = 'https://archive.ics.uci.edu/ml/machine-learning-databases/iris/iris.data'\n",
    "features = ['sepal_len','sepal_width','petal_len', 'petal_width','class']\n",
    "iris_ds = pd.read_csv(path,names = features)\n",
    "featurelist = ['sepal_len','sepal_width','petal_len', 'petal_width']\n",
    "featureMat = iris_ds[featurelist]"
   ]
  },
  {
   "cell_type": "markdown",
   "metadata": {},
   "source": [
    "#### PCA for 3 Principal Components"
   ]
  },
  {
   "cell_type": "code",
   "execution_count": 232,
   "metadata": {},
   "outputs": [
    {
     "name": "stdout",
     "output_type": "stream",
     "text": [
      "PC1 variance ratio: 0.9246162071742684\n",
      "PC2 variance ratio: 0.053015567850534955\n",
      "PC3 variance ratio: 0.01718513952500679\n"
     ]
    }
   ],
   "source": [
    "pca3 = PCA(n_components=3)\n",
    "pca3.fit(featureMat[['sepal_len','sepal_width','petal_len', 'petal_width']])\n",
    "for(x,var)in enumerate(pca3.explained_variance_ratio_):\n",
    "    print(\"PC\"+str(x+1), \"variance ratio:\", var )"
   ]
  },
  {
   "cell_type": "markdown",
   "metadata": {},
   "source": [
    "#### PCA for 2 Principal Compnents"
   ]
  },
  {
   "cell_type": "code",
   "execution_count": 233,
   "metadata": {},
   "outputs": [
    {
     "name": "stdout",
     "output_type": "stream",
     "text": [
      "PC1 variance ratio: 0.9246162071742684\n",
      "PC2 variance ratio: 0.053015567850534955\n"
     ]
    }
   ],
   "source": [
    "pca2 = PCA(n_components=2)\n",
    "pca2.fit(featureMat[['sepal_len','sepal_width','petal_len', 'petal_width']])\n",
    "for(x,var)in enumerate(pca2.explained_variance_ratio_):\n",
    "    print(\"PC\"+str(x+1), \"variance ratio:\", var )"
   ]
  },
  {
   "cell_type": "markdown",
   "metadata": {},
   "source": [
    "#### PCA for 1 Principal Compnents"
   ]
  },
  {
   "cell_type": "code",
   "execution_count": 235,
   "metadata": {},
   "outputs": [
    {
     "name": "stdout",
     "output_type": "stream",
     "text": [
      "PC1 variance ratio: 0.9246162071742684\n"
     ]
    }
   ],
   "source": [
    "pca1 = PCA(n_components=1)\n",
    "pca1.fit(featureMat[['sepal_len','sepal_width','petal_len', 'petal_width']])\n",
    "for(x,var)in enumerate(pca1.explained_variance_ratio_):\n",
    "    print(\"PC\"+str(x+1), \"variance ratio:\", var )"
   ]
  },
  {
   "cell_type": "markdown",
   "metadata": {},
   "source": [
    "#### Variance for Default Features"
   ]
  },
  {
   "cell_type": "code",
   "execution_count": 236,
   "metadata": {},
   "outputs": [
    {
     "name": "stdout",
     "output_type": "stream",
     "text": [
      "sepal_len variance ratio: 0.15006561652804068\n",
      "sepal_width variance ratio: 0.04114511759566788\n",
      "petal_len variance ratio: 0.6813265407839865\n",
      "petal_width variance ratio: 0.1274627250923049\n"
     ]
    }
   ],
   "source": [
    "totalVar =0\n",
    "for feature in featurelist:\n",
    "    totalVar += iris_ds[feature].var()\n",
    "for feature in featurelist:\n",
    "    print(feature,\"variance ratio:\", iris_ds[feature].var()/totalVar)"
   ]
  },
  {
   "cell_type": "markdown",
   "metadata": {},
   "source": [
    "As seen from the data, the first principal component has a very high variance score at $.92$. As opposed to the original features which have relativly low variance ratios. The feature with the greatest variance is petal length and that still doesn't have have as much variablilty as the first principal component."
   ]
  },
  {
   "cell_type": "markdown",
   "metadata": {},
   "source": [
    "### Problem 2.4\n"
   ]
  },
  {
   "cell_type": "code",
   "execution_count": 250,
   "metadata": {},
   "outputs": [
    {
     "name": "stdout",
     "output_type": "stream",
     "text": [
      "sepal_len vs PC1\n"
     ]
    },
    {
     "data": {
      "image/png": "[encoded data removed]",
      "text/plain": [
       "<Figure size 432x288 with 1 Axes>"
      ]
     },
     "metadata": {
      "needs_background": "light"
     },
     "output_type": "display_data"
    },
    {
     "name": "stdout",
     "output_type": "stream",
     "text": [
      "correlation coefficient sepal_len vs PC1: 0.8975448849407616\n",
      "\n",
      "\n",
      "sepal_width vs PC1\n"
     ]
    },
    {
     "data": {
      "image/png": "[encoded data removed]",
      "text/plain": [
       "<Figure size 432x288 with 1 Axes>"
      ]
     },
     "metadata": {
      "needs_background": "light"
     },
     "output_type": "display_data"
    },
    {
     "name": "stdout",
     "output_type": "stream",
     "text": [
      "correlation coefficient sepal_width vs PC1: -0.3899933790475055\n",
      "\n",
      "\n",
      "petal_len vs PC1\n"
     ]
    },
    {
     "data": {
      "image/png": "[encoded data removed]",
      "text/plain": [
       "<Figure size 432x288 with 1 Axes>"
      ]
     },
     "metadata": {
      "needs_background": "light"
     },
     "output_type": "display_data"
    },
    {
     "name": "stdout",
     "output_type": "stream",
     "text": [
      "correlation coefficient petal_len vs PC1: 0.9978540506354597\n",
      "\n",
      "\n",
      "petal_width vs PC1\n"
     ]
    },
    {
     "data": {
      "image/png": "[encoded data removed]",
      "text/plain": [
       "<Figure size 432x288 with 1 Axes>"
      ]
     },
     "metadata": {
      "needs_background": "light"
     },
     "output_type": "display_data"
    },
    {
     "name": "stdout",
     "output_type": "stream",
     "text": [
      "correlation coefficient petal_width vs PC1: 0.9664841831537923\n",
      "\n",
      "\n"
     ]
    }
   ],
   "source": [
    "PC1 = pca1.fit_transform(featureMat)\n",
    "PC1= pd.DataFrame(PC1)\n",
    "for feature in featurelist:\n",
    "    x = featureMat[feature]\n",
    "    y = PC1[0]\n",
    "    plt.scatter(x, y, c='black')\n",
    "    plt.ylabel('PC1')\n",
    "    plt.xlabel(feature)\n",
    "    print(feature, \"vs\", \"PC1\")\n",
    "    plt.show()\n",
    "    print(\"correlation coefficient\", feature, \"vs\", \"PC1:\", np.corrcoef(x, y)[0][1])\n",
    "    print(\"\\n\")"
   ]
  },
  {
   "cell_type": "markdown",
   "metadata": {},
   "source": [
    "As seen from the plots, the feature that correlation to PC1 is petal length. This is understandable as petal length had the greatest variation ratio. Yes, the results agree with the visuals."
   ]
  },
  {
   "cell_type": "markdown",
   "metadata": {},
   "source": [
    "### Problem 2.5"
   ]
  },
  {
   "cell_type": "code",
   "execution_count": 257,
   "metadata": {},
   "outputs": [
    {
     "name": "stdout",
     "output_type": "stream",
     "text": [
      "sepal_len variance: 0.6856935123042505\n",
      "sepal_width variance: 0.18800402684563763\n",
      "petal_len variance: 3.1131794183445156\n",
      "petal_width variance: 0.5824143176733784\n",
      "feature total variance: 4.5692912751677826\n",
      "\n",
      "\n",
      "Variance of PC1 = 4.224840768320109\n",
      "Variance of PC2 = 0.24224357162751495\n",
      "Variance of PC3 = 0.07852390809415456\n",
      "Variance of PC4 = 0.02368302712600192\n",
      "PCA total variance: 4.569291275167781\n",
      "\n",
      " Variance ratio captured by PC 1 and 2: 0.9776317750248029\n"
     ]
    }
   ],
   "source": [
    "pca = PCA(n_components=4)\n",
    "dataset_pca = pd.DataFrame(pca.fit_transform(featureMat), columns=['PC1', 'PC2', 'PC3', 'PC4'])\n",
    "pca_tot_var = 0\n",
    "\n",
    "for feature in featurelist:\n",
    "    print(feature,\"variance:\", iris_ds[feature].var())\n",
    "print(\"feature total variance:\", totalVar)\n",
    "\n",
    "print(\"\\n\")\n",
    "\n",
    "for PC in dataset_pca:\n",
    "    print(\"Variance of\", PC, \"=\", dataset_pca[PC].var())\n",
    "    pca_tot_var += dataset_pca[PC].var()\n",
    "    \n",
    "print(\"PCA total variance:\", pca_tot_var)\n",
    "    \n",
    "print(\"\\n\",\"Variance ratio captured by PC 1 and 2:\",(dataset_pca[\"PC1\"].var() + dataset_pca[\"PC2\"].var()) /totalVar)"
   ]
  },
  {
   "cell_type": "markdown",
   "metadata": {},
   "source": [
    "PC1 captures 92% of the variance by itself. So aftwer we add PC2, we get 97% of variance captured and so we need to reduce the dataset to 2 features to capture atleast 95% of the variance."
   ]
  }
 ],
 "metadata": {
  "kernelspec": {
   "display_name": "Python 3",
   "language": "python",
   "name": "python3"
  },
  "language_info": {
   "codemirror_mode": {
    "name": "ipython",
    "version": 3
   },
   "file_extension": ".py",
   "mimetype": "text/x-python",
   "name": "python",
   "nbconvert_exporter": "python",
   "pygments_lexer": "ipython3",
   "version": "3.7.4"
  }
 },
 "nbformat": 4,
 "nbformat_minor": 2
}
